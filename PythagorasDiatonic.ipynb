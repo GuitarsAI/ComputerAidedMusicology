{
 "cells": [
  {
   "cell_type": "markdown",
   "metadata": {},
   "source": [
    "# Computer-Aided Musicology\n",
    "## From Pythagoras to the Diatonic Scale\n",
    "<p align=\"left\">\n",
    "<img src=\"./img/businesscard.jpg\" width=\"500px\" alt=\"Business Card\" align=\"left\" >\n",
    "</p>\n",
    "<br>\n",
    "\n",
    "[www.rptecnologias.com](http://www.rptecnologias.com)\n",
    "<br>\n",
    "guitars.ai@rptecnologias.com\n"
   ]
  },
  {
   "cell_type": "markdown",
   "metadata": {},
   "source": [
    "# Imports"
   ]
  },
  {
   "cell_type": "code",
   "execution_count": 1,
   "metadata": {},
   "outputs": [],
   "source": [
    "#Imports \n",
    "from music21 import *\n",
    "from IPython.display import Image\n",
    "import sympy as sp\n",
    "\n",
    "\n",
    "# Auxiliary Function to Display Musical Score\n",
    "def get_score_png():\n",
    "    filename = ! ls *.png -Art | tail -n 1\n",
    "    return(filename[0])"
   ]
  },
  {
   "cell_type": "markdown",
   "metadata": {},
   "source": [
    "## String Vibration"
   ]
  },
  {
   "cell_type": "code",
   "execution_count": 2,
   "metadata": {},
   "outputs": [],
   "source": [
    "from sympy import init_printing\n",
    "init_printing()\n",
    "from sympy.abc import mu\n",
    "from sympy import symbols, sqrt"
   ]
  },
  {
   "cell_type": "code",
   "execution_count": 3,
   "metadata": {},
   "outputs": [],
   "source": [
    "f, f1, f2, L, L1, L2,T,mu = symbols('f f1 f2 L L1 L2 T mu')"
   ]
  },
  {
   "cell_type": "code",
   "execution_count": 4,
   "metadata": {},
   "outputs": [
    {
     "data": {
      "image/png": "[encoded data removed]",
      "text/latex": [
       "$$f = \\frac{\\sqrt{\\frac{T}{\\mu}}}{2 L}$$"
      ],
      "text/plain": [
       "        ___\n",
       "       ╱ T \n",
       "      ╱  ─ \n",
       "    ╲╱   μ \n",
       "f = ───────\n",
       "      2⋅L  "
      ]
     },
     "execution_count": 4,
     "metadata": {},
     "output_type": "execute_result"
    }
   ],
   "source": [
    "Eq=sp.Eq(f,((1/(2*L))*sqrt(T/mu)))\n",
    "Eq"
   ]
  },
  {
   "cell_type": "code",
   "execution_count": 5,
   "metadata": {},
   "outputs": [
    {
     "data": {
      "image/png": "[encoded data removed]",
      "text/latex": [
       "$$\\left ( f_{1} = \\frac{\\sqrt{\\frac{T}{\\mu}}}{2 L_{1}}, \\quad f_{2} = \\frac{\\sqrt{\\frac{T}{\\mu}}}{2 L_{2}}\\right )$$"
      ],
      "text/plain": [
       "⎛         ___           ___⎞\n",
       "⎜        ╱ T           ╱ T ⎟\n",
       "⎜       ╱  ─          ╱  ─ ⎟\n",
       "⎜     ╲╱   μ        ╲╱   μ ⎟\n",
       "⎜f₁ = ───────, f₂ = ───────⎟\n",
       "⎝       2⋅L₁          2⋅L₂ ⎠"
      ]
     },
     "execution_count": 5,
     "metadata": {},
     "output_type": "execute_result"
    }
   ],
   "source": [
    "Eq1=sp.Eq(f1,((1/(2*L1))*sqrt(T/mu)))\n",
    "Eq2=sp.Eq(f2,((1/(2*L2))*sqrt(T/mu)))\n",
    "Eq1, Eq2"
   ]
  },
  {
   "cell_type": "markdown",
   "metadata": {
    "variables": {
     "Eq": "$$f = \\frac{\\sqrt{\\frac{T}{\\mu}}}{2 L}$$",
     "mu": "$$\\mu$$"
    }
   },
   "source": [
    "{{Eq}}\n",
    "{{mu}}"
   ]
  },
  {
   "cell_type": "code",
   "execution_count": 6,
   "metadata": {},
   "outputs": [
    {
     "data": {
      "image/png": "[encoded data removed]",
      "text/latex": [
       "$$\\frac{f_{1}}{f_{2}} = \\frac{L_{2}}{L_{1}}$$"
      ],
      "text/plain": [
       "f₁   L₂\n",
       "── = ──\n",
       "f₂   L₁"
      ]
     },
     "execution_count": 6,
     "metadata": {},
     "output_type": "execute_result"
    }
   ],
   "source": [
    "Eq3=sp.Eq(Eq1.lhs/Eq2.lhs,Eq1.rhs/Eq2.rhs)\n",
    "Eq3\n"
   ]
  },
  {
   "cell_type": "code",
   "execution_count": 7,
   "metadata": {},
   "outputs": [
    {
     "data": {
      "image/png": "[encoded data removed]",
      "text/latex": [
       "$$f_{1} = \\frac{L_{2} f_{2}}{L_{1}}$$"
      ],
      "text/plain": [
       "     L₂⋅f₂\n",
       "f₁ = ─────\n",
       "       L₁ "
      ]
     },
     "execution_count": 7,
     "metadata": {},
     "output_type": "execute_result"
    }
   ],
   "source": [
    "Eq4=sp.Eq(f1,sp.solve(Eq3,f1)[0])\n",
    "Eq4"
   ]
  },
  {
   "cell_type": "code",
   "execution_count": 8,
   "metadata": {},
   "outputs": [
    {
     "name": "stdout",
     "output_type": "stream",
     "text": [
      "146.8323839587038\n"
     ]
    }
   ],
   "source": [
    "from librosa import hz_to_note, note_to_hz\n",
    "D3_freq=note_to_hz('D3')\n",
    "print(D3_freq)"
   ]
  },
  {
   "cell_type": "code",
   "execution_count": 9,
   "metadata": {},
   "outputs": [
    {
     "name": "stdout",
     "output_type": "stream",
     "text": [
      "D4\n"
     ]
    }
   ],
   "source": [
    "new_freq=Eq4.subs({L2:2,L1:1,f2:D3_freq })\n",
    "new_note=hz_to_note(float(new_freq.rhs))\n",
    "print(new_note)"
   ]
  },
  {
   "cell_type": "code",
   "execution_count": 10,
   "metadata": {},
   "outputs": [
    {
     "data": {
      "image/png": "[encoded data removed]",
      "text/latex": [
       "$$f_{1} = \\frac{L_{2} f_{2}}{L_{1}}$$"
      ],
      "text/plain": [
       "     L₂⋅f₂\n",
       "f₁ = ─────\n",
       "       L₁ "
      ]
     },
     "execution_count": 10,
     "metadata": {},
     "output_type": "execute_result"
    }
   ],
   "source": [
    "Eq4"
   ]
  },
  {
   "cell_type": "code",
   "execution_count": 133,
   "metadata": {},
   "outputs": [
    {
     "name": "stdout",
     "output_type": "stream",
     "text": [
      "A3\n"
     ]
    }
   ],
   "source": [
    "new_freq=Eq4.subs({L2:3,L1:2,f2:D3_freq })\n",
    "new_note=hz_to_note(float(new_freq.rhs))\n",
    "print(new_note)"
   ]
  },
  {
   "cell_type": "code",
   "execution_count": 155,
   "metadata": {},
   "outputs": [],
   "source": [
    "D3=pitch.Pitch('D3')\n",
    "\n",
    "def test_scale(pitch1):\n",
    "    pitch2=pitch1.transpose(12)\n",
    "    pitches_list=[pitch1]\n",
    "    i = interval.Interval('p5')\n",
    "    new_pitch_forward=pitch1\n",
    "    new_pitch_backward=pitch1\n",
    "    for j in range(6):\n",
    "        #Forward\n",
    "        new_pitch_forward=i.transposePitch(new_pitch_forward)\n",
    "        if new_pitch_forward.frequency  > pitch2.frequency:\n",
    "            new_pitch_forward=new_pitch_forward.transpose(-12)\n",
    "        if new_pitch_forward.frequency  < pitch1.frequency:\n",
    "            new_pitch_forward=new_pitch_forward.transpose(12)\n",
    "        pitches_list.append(new_pitch_forward)\n",
    "        #Backward\n",
    "        new_pitch_backward=i.reverse().transposePitch(new_pitch_backward)\n",
    "        if new_pitch_backward.frequency  > pitch2.frequency:\n",
    "            new_pitch_backward=new_pitch_backward.transpose(-12)\n",
    "        if new_pitch_backward.frequency  < pitch1.frequency:\n",
    "            new_pitch_backward=new_pitch_backward.transpose(12)\n",
    "        pitches_list.append((new_pitch_backward))\n",
    "        \n",
    "    return pitches_list\n",
    "    \n",
    "    "
   ]
  },
  {
   "cell_type": "code",
   "execution_count": 156,
   "metadata": {},
   "outputs": [
    {
     "name": "stdout",
     "output_type": "stream",
     "text": [
      "0\n",
      "1\n",
      "2\n",
      "3\n",
      "4\n",
      "5\n"
     ]
    }
   ],
   "source": [
    "test=test_scale(D3)"
   ]
  },
  {
   "cell_type": "code",
   "execution_count": 157,
   "metadata": {},
   "outputs": [
    {
     "data": {
      "text/plain": [
       "[<music21.pitch.Pitch D3>,\n",
       " <music21.pitch.Pitch A3>,\n",
       " <music21.pitch.Pitch G3>,\n",
       " <music21.pitch.Pitch E3>,\n",
       " <music21.pitch.Pitch C4>,\n",
       " <music21.pitch.Pitch B3>,\n",
       " <music21.pitch.Pitch F3>,\n",
       " <music21.pitch.Pitch F#3>,\n",
       " <music21.pitch.Pitch B-3>,\n",
       " <music21.pitch.Pitch C#4>,\n",
       " <music21.pitch.Pitch E-3>,\n",
       " <music21.pitch.Pitch G#3>,\n",
       " <music21.pitch.Pitch G#3>]"
      ]
     },
     "execution_count": 157,
     "metadata": {},
     "output_type": "execute_result"
    }
   ],
   "source": [
    "test"
   ]
  },
  {
   "cell_type": "markdown",
   "metadata": {},
   "source": [
    "### Pitch Properties"
   ]
  },
  {
   "cell_type": "code",
   "execution_count": 2,
   "metadata": {},
   "outputs": [],
   "source": [
    "p1 = pitch.Pitch('A-4')"
   ]
  },
  {
   "cell_type": "code",
   "execution_count": 3,
   "metadata": {},
   "outputs": [
    {
     "name": "stdout",
     "output_type": "stream",
     "text": [
      "A-flat in octave 4\n",
      "la bemolle\n",
      "A♭4\n",
      "MIDI Number: 68\n",
      "Frequency [Hz]: 415.3046975799451\n"
     ]
    }
   ],
   "source": [
    "# http://web.mit.edu/music21/doc/moduleReference/modulePitch.html#module-music21.pitch\n",
    "print(p1.fullName)\n",
    "print(p1.italian)\n",
    "print(p1.unicodeNameWithOctave)\n",
    "print(\"MIDI Number:\", p1.midi)\n",
    "print(\"Frequency [Hz]:\", p1.frequency)"
   ]
  },
  {
   "cell_type": "markdown",
   "metadata": {},
   "source": [
    "### Pitch Transpose"
   ]
  },
  {
   "cell_type": "code",
   "execution_count": 4,
   "metadata": {},
   "outputs": [
    {
     "name": "stdout",
     "output_type": "stream",
     "text": [
      "A4\n"
     ]
    }
   ],
   "source": [
    "p2 = p1.transpose(1)\n",
    "print(p2.unicodeNameWithOctave)"
   ]
  },
  {
   "cell_type": "code",
   "execution_count": 5,
   "metadata": {},
   "outputs": [
    {
     "name": "stdout",
     "output_type": "stream",
     "text": [
      "mi\n",
      "E5\n"
     ]
    }
   ],
   "source": [
    "p3 = p2.transpose('p5')\n",
    "print(p3.spanish)\n",
    "print(p3.unicodeNameWithOctave)"
   ]
  },
  {
   "cell_type": "markdown",
   "metadata": {},
   "source": [
    "### Pitch Harmonics"
   ]
  },
  {
   "cell_type": "code",
   "execution_count": 6,
   "metadata": {},
   "outputs": [
    {
     "name": "stdout",
     "output_type": "stream",
     "text": [
      "A4 : 440.0 - A4\n",
      "A5 : 880.0000000000003 - A5\n",
      "E6 : 1320.0343105715208 - E6(+2c)\n",
      "A6 : 1760.000000000002 - A6\n",
      "C♯7 : 2199.6013780028807 - C#7(-14c)\n"
     ]
    }
   ],
   "source": [
    "# Harmonics\n",
    "harmonics=[]\n",
    "for harmonic in [1,2,3,4,5]:\n",
    "    harmonics.append(p2.getHarmonic(harmonic))\n",
    "for i in harmonics:\n",
    "    print(i.unicodeNameWithOctave,':', i.frequency, \"-\", i)"
   ]
  },
  {
   "cell_type": "code",
   "execution_count": 7,
   "metadata": {},
   "outputs": [
    {
     "name": "stdout",
     "output_type": "stream",
     "text": [
      "E6(+2c)\n",
      "A4\n"
     ]
    }
   ],
   "source": [
    "print(harmonics[2])\n",
    "print(harmonics[2].fundamental)"
   ]
  },
  {
   "cell_type": "markdown",
   "metadata": {},
   "source": [
    "### Cents in Music\n",
    "\n",
    "$$ \\text{1 cent}  = \\text{1 % of a semitone} $$\n",
    "$$ \\text{1 semitone}  = \\frac{1}{12} \\text{ of an octave} $$\n",
    "$$ \\Rightarrow  \\text{1200 cents in an octave} $$\n",
    "  \n",
    "$$ n = 1200 \\cdot \\log _{2} \\left( \\frac{a}{b} \\right) $$\n",
    "  \n",
    "Where n is the number of cents, and _'a'_ and _'b'_ are the frequencies of two notes.\n"
   ]
  },
  {
   "cell_type": "code",
   "execution_count": 8,
   "metadata": {},
   "outputs": [
    {
     "name": "stdout",
     "output_type": "stream",
     "text": [
      "E6 Frequency: 1318.5102276514808\n",
      "E6 + 2 Cents Frequency: 1320.0343105715208\n",
      "Frequency of the third harmonic of A4: 440*3= 1320\n"
     ]
    }
   ],
   "source": [
    "p4 = pitch.Pitch('E6')\n",
    "print(\"E6 Frequency:\",p4.frequency)\n",
    "p4.microtone = 2\n",
    "print(\"E6 + 2 Cents Frequency:\", p4.frequency)\n",
    "\n",
    "print(\"Frequency of the third harmonic of A4: 440*3=\", 440*3)"
   ]
  },
  {
   "cell_type": "markdown",
   "metadata": {},
   "source": [
    "### Formula for the frequency of notes of the equal temperament scale\n",
    "  \n",
    "  \n",
    "$$ f_n = f_0 \\cdot \\left( \\sqrt[12]{2} \\right)^n $$\n",
    "$ \\text{Where:} $ \n",
    " \n",
    "$ f_n \\text{ is the Frequency of a note n half-steps away. } $\n",
    " \n",
    "$ n \\text{ is the number of half-steps away from a fixed note. } $\n",
    " \n",
    "$ f_0 \\text{ is a fixed note. For example the standar A=440 Hz. } $"
   ]
  },
  {
   "cell_type": "code",
   "execution_count": 9,
   "metadata": {},
   "outputs": [
    {
     "name": "stdout",
     "output_type": "stream",
     "text": [
      "E6 Frequency: 440*(2**(1/12))**19 = 1318.5102276514808\n"
     ]
    }
   ],
   "source": [
    "print('E6 Frequency: 440*(2**(1/12))**19 =', 440*(2**(1/12))**19)"
   ]
  },
  {
   "cell_type": "markdown",
   "metadata": {},
   "source": [
    "### Pitch Enharmonics"
   ]
  },
  {
   "cell_type": "code",
   "execution_count": 10,
   "metadata": {},
   "outputs": [
    {
     "name": "stdout",
     "output_type": "stream",
     "text": [
      "[<music21.pitch.Pitch G#4>]\n",
      "G#4\n",
      "B---4\n"
     ]
    }
   ],
   "source": [
    "# Alternate Musical Speeling\n",
    "print(p1.getAllCommonEnharmonics())\n",
    "print(p1.getLowerEnharmonic())\n",
    "print(p1.getHigherEnharmonic())"
   ]
  },
  {
   "cell_type": "markdown",
   "metadata": {},
   "source": [
    "## Duration\n",
    " \n",
    " \"Duration is the length of time a pitch, or tone, is sounded.\" - Benward, B., 2003. Music In Theory and Practice Spiral. Mcgraw-Hill College."
   ]
  },
  {
   "cell_type": "code",
   "execution_count": 11,
   "metadata": {},
   "outputs": [
    {
     "name": "stdout",
     "output_type": "stream",
     "text": [
      "An eighth note, has the duration of 0.5 quarter note.\n"
     ]
    }
   ],
   "source": [
    "# Music21 Durations are almost always measured in Quarter Notes, so an eighth note has a duration of 0.5. \n",
    "# http://web.mit.edu/music21/doc/moduleReference/moduleDuration.html#module-music21.duration\n",
    "\n",
    "d = duration.Duration()\n",
    "d.quarterLength = 0.5\n",
    "print(\"An %s note, has the duration of 0.5 quarter note.\" % d.type)"
   ]
  },
  {
   "cell_type": "code",
   "execution_count": 12,
   "metadata": {},
   "outputs": [
    {
     "name": "stdout",
     "output_type": "stream",
     "text": [
      "A whole note has the duration of 4 quarter notes.\n"
     ]
    }
   ],
   "source": [
    "d.type='whole'\n",
    "print(\"A whole note has the duration of %d quarter notes.\" % d.quarterLength)"
   ]
  },
  {
   "cell_type": "code",
   "execution_count": 13,
   "metadata": {},
   "outputs": [
    {
     "name": "stdout",
     "output_type": "stream",
     "text": [
      "Whole\n"
     ]
    }
   ],
   "source": [
    "print(d.fullName)"
   ]
  },
  {
   "cell_type": "markdown",
   "metadata": {},
   "source": [
    "## Note"
   ]
  },
  {
   "cell_type": "code",
   "execution_count": 14,
   "metadata": {},
   "outputs": [
    {
     "name": "stdout",
     "output_type": "stream",
     "text": [
      "A in octave 4 Eighth Note\n",
      "A4\n"
     ]
    }
   ],
   "source": [
    "n1 = note.Note('A4')\n",
    "n1.quarterLength = 0.5\n",
    "print(n1.fullName)\n",
    "print(n1.pitch)"
   ]
  },
  {
   "cell_type": "code",
   "execution_count": 15,
   "metadata": {},
   "outputs": [
    {
     "name": "stdout",
     "output_type": "stream",
     "text": [
      "C in octave 5 Eighth Note\n"
     ]
    }
   ],
   "source": [
    "n2=n1.transpose('m3')\n",
    "print(n2.fullName)"
   ]
  },
  {
   "cell_type": "code",
   "execution_count": 16,
   "metadata": {},
   "outputs": [
    {
     "name": "stdout",
     "output_type": "stream",
     "text": [
      "Whole Rest\n"
     ]
    }
   ],
   "source": [
    "r = note.Rest(type='whole')\n",
    "print(r.fullName)"
   ]
  },
  {
   "cell_type": "markdown",
   "metadata": {},
   "source": [
    "## Interval\n",
    " \n",
    "\"Intervals, or distances in pitch space between two pitches, are fundamental concepts of music theory, dating back at least to Ancient Greece, and are thus fundamental concepts in music21 as well.\" - http://web.mit.edu/music21/doc/usersGuide/usersGuide_18_intervals.html"
   ]
  },
  {
   "cell_type": "code",
   "execution_count": 17,
   "metadata": {},
   "outputs": [],
   "source": [
    "i = interval.Interval('m7')"
   ]
  },
  {
   "cell_type": "code",
   "execution_count": 18,
   "metadata": {},
   "outputs": [
    {
     "name": "stdout",
     "output_type": "stream",
     "text": [
      "Minor Seventh\n",
      "10\n"
     ]
    }
   ],
   "source": [
    "print(i.niceName)\n",
    "print(i.semitones)\n"
   ]
  },
  {
   "cell_type": "code",
   "execution_count": 19,
   "metadata": {},
   "outputs": [
    {
     "name": "stdout",
     "output_type": "stream",
     "text": [
      "Orignal Note: A in octave 4 Eighth Note\n",
      "Transposed Note: G in octave 5 Eighth Note\n",
      "Resersed Transposed Note: B in octave 3 Eighth Note\n"
     ]
    }
   ],
   "source": [
    "n3=i.transposeNote(n1)\n",
    "print(\"Orignal Note:\", n1.fullName)\n",
    "print(\"Transposed Note:\", n3.fullName)\n",
    "n4=i.reverse().transposeNote(n1)\n",
    "print(\"Resersed Transposed Note:\", n4.fullName)\n"
   ]
  },
  {
   "cell_type": "markdown",
   "metadata": {},
   "source": [
    "## Scale"
   ]
  },
  {
   "cell_type": "code",
   "execution_count": 20,
   "metadata": {},
   "outputs": [],
   "source": [
    "harmonicMinor = scale.HarmonicMinorScale('C4')"
   ]
  },
  {
   "cell_type": "code",
   "execution_count": 21,
   "metadata": {},
   "outputs": [
    {
     "name": "stdout",
     "output_type": "stream",
     "text": [
      "['C4', 'D4', 'E-4', 'F4', 'G4', 'A-4', 'B4', 'C5']\n"
     ]
    }
   ],
   "source": [
    "print([str(p) for p in harmonicMinor.pitches])"
   ]
  },
  {
   "cell_type": "code",
   "execution_count": 22,
   "metadata": {},
   "outputs": [
    {
     "name": "stdout",
     "output_type": "stream",
     "text": [
      "Intervals: ['P1', 'M2', 'm3', 'P4', 'P5', 'm6', 'M7', 'P8']\n"
     ]
    }
   ],
   "source": [
    "list_of_notes=[note.Note(p) for p in harmonicMinor.pitches]\n",
    "list_of_intervals=[interval.notesToInterval(list_of_notes[0],n) for n in list_of_notes]\n",
    "print(\"Intervals:\", [t.name for t in list_of_intervals])"
   ]
  },
  {
   "cell_type": "code",
   "execution_count": 23,
   "metadata": {},
   "outputs": [
    {
     "data": {
      "text/plain": [
       "[(3, <music21.scale.HarmonicMinorScale G harmonic minor>),\n",
       " (3, <music21.scale.HarmonicMinorScale E harmonic minor>),\n",
       " (3, <music21.scale.HarmonicMinorScale C harmonic minor>),\n",
       " (2, <music21.scale.HarmonicMinorScale B- harmonic minor>)]"
      ]
     },
     "execution_count": 23,
     "metadata": {},
     "output_type": "execute_result"
    }
   ],
   "source": [
    "harmonicMinor.deriveRanked(['c', 'e-', 'g'])"
   ]
  },
  {
   "cell_type": "code",
   "execution_count": 24,
   "metadata": {},
   "outputs": [
    {
     "name": "stdout",
     "output_type": "stream",
     "text": [
      "['B-4', 'C5', 'D-5', 'E-5', 'F5', 'G-5', 'A5', 'B-5']\n"
     ]
    }
   ],
   "source": [
    "harmonicMinorBflat = scale.HarmonicMinorScale('B-4')\n",
    "print([str(p) for p in harmonicMinorBflat.pitches])"
   ]
  },
  {
   "cell_type": "code",
   "execution_count": 25,
   "metadata": {},
   "outputs": [
    {
     "data": {
      "text/plain": [
       "<music21.scale.HarmonicMinorScale D- harmonic minor>"
      ]
     },
     "execution_count": 25,
     "metadata": {},
     "output_type": "execute_result"
    }
   ],
   "source": [
    "harmonicMinorBflat.deriveByDegree(7, 'c')"
   ]
  },
  {
   "cell_type": "code",
   "execution_count": 26,
   "metadata": {},
   "outputs": [
    {
     "name": "stdout",
     "output_type": "stream",
     "text": [
      "['D-4', 'E-4', 'F-4', 'G-4', 'A-4', 'B--4', 'C5', 'D-5']\n"
     ]
    }
   ],
   "source": [
    "harmonicMinorDflat = scale.HarmonicMinorScale('D-4')\n",
    "print([str(p) for p in harmonicMinorDflat.pitches])"
   ]
  },
  {
   "cell_type": "code",
   "execution_count": 27,
   "metadata": {},
   "outputs": [],
   "source": [
    "def minor_pentatonic(pitch_name):\n",
    "    list_of_intervals=['p1','m3', 'p4', 'p5', 'm7']\n",
    "    \n",
    "    return [interval.Interval(interval_symbol).transposePitch(pitch.Pitch(pitch_name)) \n",
    "           for interval_symbol in list_of_intervals]"
   ]
  },
  {
   "cell_type": "code",
   "execution_count": 28,
   "metadata": {},
   "outputs": [
    {
     "name": "stdout",
     "output_type": "stream",
     "text": [
      "['A4', 'C5', 'D5', 'E5', 'G5']\n"
     ]
    }
   ],
   "source": [
    "AminorPentatonic= minor_pentatonic('A4')\n",
    "print([p.nameWithOctave for p in AminorPentatonic])"
   ]
  },
  {
   "cell_type": "code",
   "execution_count": 29,
   "metadata": {},
   "outputs": [
    {
     "data": {
      "text/plain": [
       "[<music21.scale.MajorScale G major>,\n",
       " <music21.scale.MajorScale F major>,\n",
       " <music21.scale.MajorScale C major>]"
      ]
     },
     "execution_count": 29,
     "metadata": {},
     "output_type": "execute_result"
    }
   ],
   "source": [
    "majorScale=scale.MajorScale()\n",
    "majorScale.deriveAll(AminorPentatonic)"
   ]
  },
  {
   "cell_type": "markdown",
   "metadata": {},
   "source": [
    "## Stream"
   ]
  },
  {
   "cell_type": "code",
   "execution_count": 30,
   "metadata": {},
   "outputs": [],
   "source": [
    "# Objects stored in a Stream are generally spaced in time; \n",
    "# each stored object has an offset usually representing how many quarter notes it lies from the beginning of the Stream. \n",
    "#For instance in a 4/4 measure of two half notes, the first note will be at offset 0.0, and the second at offset 2.0.\n",
    "s = stream.Stream()"
   ]
  },
  {
   "cell_type": "code",
   "execution_count": 31,
   "metadata": {},
   "outputs": [],
   "source": [
    "sr = note.SpacerRest(type='whole')\n",
    "s.append(sr)\n",
    "s.append([note.Note(p) for p in AminorPentatonic])"
   ]
  },
  {
   "cell_type": "code",
   "execution_count": 32,
   "metadata": {},
   "outputs": [
    {
     "data": {
      "image/png": "[encoded data removed]",
      "text/plain": [
       "<IPython.core.display.Image object>"
      ]
     },
     "execution_count": 32,
     "metadata": {},
     "output_type": "execute_result"
    }
   ],
   "source": [
    "s.show('lily.png')\n",
    "Image(filename=get_score_png())"
   ]
  },
  {
   "cell_type": "code",
   "execution_count": 33,
   "metadata": {},
   "outputs": [
    {
     "data": {
      "text/html": [
       "\n",
       "                <div id='midiPlayerDiv44'></div>\n",
       "                <link rel=\"stylesheet\" href=\"//cuthbertLab.github.io/music21j/css/m21.css\"\n",
       "                    type=\"text/css\" />\n",
       "                <script>\n",
       "                require.config({\n",
       "                    paths: {'music21': '//cuthbertLab.github.io/music21j/src/music21'}\n",
       "                });\n",
       "                require(['music21'], function() {\n",
       "                               mp = new music21.miditools.MidiPlayer();\n",
       "                               mp.addPlayer('#midiPlayerDiv44');\n",
       "                               mp.base64Load('data:audio/midi;base64,TVRoZAAAAAYAAQABBABNVHJrAAAAOwD/AwAA4ABAoACQRVqIAIBFAACQSFqIAIBIAACQSlqIAIBKAACQTFqIAIBMAACQT1qIAIBPAIgA/y8A');\n",
       "                        });\n",
       "                </script>"
      ],
      "text/plain": [
       "<IPython.core.display.HTML object>"
      ]
     },
     "metadata": {},
     "output_type": "display_data"
    }
   ],
   "source": [
    "s.show('midi')"
   ]
  },
  {
   "cell_type": "code",
   "execution_count": null,
   "metadata": {},
   "outputs": [],
   "source": []
  }
 ],
 "metadata": {
  "kernelspec": {
   "display_name": "Python 3",
   "language": "python",
   "name": "python3"
  },
  "language_info": {
   "codemirror_mode": {
    "name": "ipython",
    "version": 3
   },
   "file_extension": ".py",
   "mimetype": "text/x-python",
   "name": "python",
   "nbconvert_exporter": "python",
   "pygments_lexer": "ipython3",
   "version": "3.5.4"
  }
 },
 "nbformat": 4,
 "nbformat_minor": 2
}
