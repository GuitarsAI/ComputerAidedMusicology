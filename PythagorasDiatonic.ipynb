{
 "cells": [
  {
   "cell_type": "markdown",
   "metadata": {},
   "source": [
    "# Computer-Aided Musicology\n",
    "## From Pythagoras to the Diatonic Scale\n",
    "<p align=\"left\">\n",
    "<img src=\"./img/businesscard.jpg\" width=\"500px\" alt=\"Business Card\" align=\"left\" >\n",
    "</p>\n",
    "<br>\n",
    "\n",
    "[www.rptecnologias.com](http://www.rptecnologias.com)\n",
    "<br>\n",
    "guitars.ai@rptecnologias.com\n"
   ]
  },
  {
   "cell_type": "markdown",
   "metadata": {},
   "source": [
    "# Imports"
   ]
  },
  {
   "cell_type": "code",
   "execution_count": 1,
   "metadata": {},
   "outputs": [],
   "source": [
    "#Imports \n",
    "from music21 import *\n",
    "from IPython.display import Image\n",
    "import sympy as sp\n",
    "from sympy import init_printing\n",
    "from sympy.abc import mu\n",
    "from sympy import symbols, sqrt\n",
    "from librosa import hz_to_note, note_to_hz\n",
    "\n",
    "# Sympy Initial Config\n",
    "init_printing()\n",
    "\n",
    "# Auxiliary Function to Display Musical Score\n",
    "def get_score_png():\n",
    "    filename = ! ls *.png -Art | tail -n 1\n",
    "    return(filename[0])"
   ]
  },
  {
   "cell_type": "markdown",
   "metadata": {},
   "source": [
    "## String Vibration"
   ]
  },
  {
   "cell_type": "code",
   "execution_count": 2,
   "metadata": {},
   "outputs": [],
   "source": [
    "# Define Symbols\n",
    "f, f1, f2, L, L1, L2,T,mu = symbols('f f1 f2 L L1 L2 T mu')"
   ]
  },
  {
   "cell_type": "code",
   "execution_count": 3,
   "metadata": {},
   "outputs": [],
   "source": [
    "# Define Equation\n",
    "Eq=sp.Eq(f,((1/(2*L))*sqrt(T/mu)))"
   ]
  },
  {
   "cell_type": "markdown",
   "metadata": {
    "variables": {
     "Eq": "$$f = \\frac{\\sqrt{\\frac{T}{\\mu}}}{2 L}$$"
    }
   },
   "source": [
    "### String Vibration Equation\n",
    " \n",
    " \n",
    "$ \\text{ f = fundamental frequency } $\n",
    "<br>\n",
    "$ \\text{ L = string length } $\n",
    "<br>\n",
    "$ \\text{ f = fundamental frequency } $\n",
    "<br>\n",
    "$ \\text{ T = Tension of the string } $\n",
    "<br>\n",
    "$ \\text{ $\\mu$ = linear density (mass per unit length) } $\n",
    "<br>\n",
    "\n",
    "\n",
    "### {{Eq}}"
   ]
  },
  {
   "cell_type": "code",
   "execution_count": 4,
   "metadata": {},
   "outputs": [],
   "source": [
    "# Two differernt lenghts\n",
    "Eq1=sp.Eq(f1,((1/(2*L1))*sqrt(T/mu)))\n",
    "Eq2=sp.Eq(f2,((1/(2*L2))*sqrt(T/mu)))"
   ]
  },
  {
   "cell_type": "markdown",
   "metadata": {
    "variables": {
     "Eq1": "$$f_{1} = \\frac{\\sqrt{\\frac{T}{\\mu}}}{2 L_{1}}$$",
     "Eq2": "$$f_{2} = \\frac{\\sqrt{\\frac{T}{\\mu}}}{2 L_{2}}$$"
    }
   },
   "source": [
    "{{Eq1}}  \n",
    "{{Eq2}}\n"
   ]
  },
  {
   "cell_type": "code",
   "execution_count": 5,
   "metadata": {},
   "outputs": [],
   "source": [
    "# String Length Ratis\n",
    "Eq3=sp.Eq(Eq1.lhs/Eq2.lhs,Eq1.rhs/Eq2.rhs)"
   ]
  },
  {
   "cell_type": "markdown",
   "metadata": {
    "variables": {
     "Eq3": "$$\\frac{f_{1}}{f_{2}} = \\frac{L_{2}}{L_{1}}$$"
    }
   },
   "source": [
    "## Strings Length Ratio\n",
    "### {{Eq3}}"
   ]
  },
  {
   "cell_type": "code",
   "execution_count": 6,
   "metadata": {},
   "outputs": [],
   "source": [
    "Eq4=sp.Eq(f1,sp.solve(Eq3,f1)[0])"
   ]
  },
  {
   "cell_type": "markdown",
   "metadata": {
    "variables": {
     "Eq4": "$$f_{1} = \\frac{L_{2} f_{2}}{L_{1}}$$"
    }
   },
   "source": [
    "### {{Eq4}}"
   ]
  },
  {
   "cell_type": "markdown",
   "metadata": {},
   "source": [
    "## Ratio 2:1 - Octave"
   ]
  },
  {
   "cell_type": "code",
   "execution_count": 7,
   "metadata": {},
   "outputs": [
    {
     "name": "stdout",
     "output_type": "stream",
     "text": [
      "146.8323839587038\n"
     ]
    }
   ],
   "source": [
    "D3_freq=note_to_hz('D3')\n",
    "print(D3_freq)"
   ]
  },
  {
   "cell_type": "code",
   "execution_count": 8,
   "metadata": {},
   "outputs": [
    {
     "name": "stdout",
     "output_type": "stream",
     "text": [
      "D4\n"
     ]
    }
   ],
   "source": [
    "new_freq=Eq4.subs({L2:2,L1:1,f2:D3_freq })\n",
    "new_note=hz_to_note(float(new_freq.rhs))\n",
    "print(new_note)"
   ]
  },
  {
   "cell_type": "markdown",
   "metadata": {},
   "source": [
    "## Ratio 3:2 -  Perfect Fifth"
   ]
  },
  {
   "cell_type": "code",
   "execution_count": 9,
   "metadata": {},
   "outputs": [
    {
     "name": "stdout",
     "output_type": "stream",
     "text": [
      "A3\n"
     ]
    }
   ],
   "source": [
    "new_freq=Eq4.subs({L2:3,L1:2,f2:D3_freq })\n",
    "new_note=hz_to_note(float(new_freq.rhs))\n",
    "print(new_note)"
   ]
  },
  {
   "cell_type": "markdown",
   "metadata": {},
   "source": [
    "## Pythagoras Experiments with 3:2 Ratios - Perfect Fifths"
   ]
  },
  {
   "cell_type": "code",
   "execution_count": 10,
   "metadata": {},
   "outputs": [],
   "source": [
    "# Function to Calculate Perfect Fifths Intervals Forward and Backwars inside one octave\n",
    "def test_scale(pitch1):\n",
    "    pitch2=pitch1.transpose(12)\n",
    "    pitches_list=[note.Note(pitch1)]\n",
    "    i = interval.Interval('p5')\n",
    "    new_pitch_forward=pitch1\n",
    "    new_pitch_backward=pitch1\n",
    "    for j in range(6):\n",
    "        #Forward\n",
    "        new_pitch_forward=i.transposePitch(new_pitch_forward)\n",
    "        if new_pitch_forward.frequency  > pitch2.frequency:\n",
    "            new_pitch_forward=new_pitch_forward.transpose(-12)\n",
    "        if new_pitch_forward.frequency  < pitch1.frequency:\n",
    "            new_pitch_forward=new_pitch_forward.transpose(12)\n",
    "        pitches_list.append(note.Note(new_pitch_forward))\n",
    "        #Backward\n",
    "        new_pitch_backward=i.reverse().transposePitch(new_pitch_backward)\n",
    "        if new_pitch_backward.frequency  > pitch2.frequency:\n",
    "            new_pitch_backward=new_pitch_backward.transpose(-12)\n",
    "        if new_pitch_backward.frequency  < pitch1.frequency:\n",
    "            new_pitch_backward=new_pitch_backward.transpose(12)\n",
    "        pitches_list.append(note.Note(new_pitch_backward))\n",
    "        \n",
    "    return pitches_list\n",
    "    \n",
    "    "
   ]
  },
  {
   "cell_type": "code",
   "execution_count": 36,
   "metadata": {},
   "outputs": [
    {
     "data": {
      "text/plain": [
       "[<music21.note.Note D>,\n",
       " <music21.note.Note A>,\n",
       " <music21.note.Note G>,\n",
       " <music21.note.Note E>,\n",
       " <music21.note.Note C>,\n",
       " <music21.note.Note B>,\n",
       " <music21.note.Note F>,\n",
       " <music21.note.Note F#>,\n",
       " <music21.note.Note B->,\n",
       " <music21.note.Note C#>,\n",
       " <music21.note.Note E->,\n",
       " <music21.note.Note G#>,\n",
       " <music21.note.Note G#>]"
      ]
     },
     "execution_count": 36,
     "metadata": {},
     "output_type": "execute_result"
    }
   ],
   "source": [
    "pythagoras_scale=test_scale(pitch.Pitch('D3'))\n",
    "pythagoras_scale"
   ]
  },
  {
   "cell_type": "code",
   "execution_count": 43,
   "metadata": {},
   "outputs": [],
   "source": [
    "s=stream.Stream()\n",
    "penta_freq_list=[]\n",
    "for notes in pythagoras_scale[:5]:\n",
    "    penta_freq_list.append(notes.pitch.frequency)"
   ]
  },
  {
   "cell_type": "code",
   "execution_count": 44,
   "metadata": {},
   "outputs": [],
   "source": [
    "def sort_list(list1, list2): \n",
    "    zipped_pairs = zip(list2, list1) \n",
    "    z = [x for _, x in sorted(zipped_pairs)] \n",
    "    return z "
   ]
  },
  {
   "cell_type": "code",
   "execution_count": 45,
   "metadata": {},
   "outputs": [
    {
     "name": "stdout",
     "output_type": "stream",
     "text": [
      "[<music21.note.Note D>, <music21.note.Note E>, <music21.note.Note G>, <music21.note.Note A>, <music21.note.Note C>]\n"
     ]
    }
   ],
   "source": [
    "penta_sorted_list=sort_list(pythagoras_scale,penta_freq_list)\n",
    "print(penta_sorted_list)"
   ]
  },
  {
   "cell_type": "code",
   "execution_count": 46,
   "metadata": {},
   "outputs": [
    {
     "data": {
      "image/png": "[encoded data removed]",
      "text/plain": [
       "<IPython.core.display.Image object>"
      ]
     },
     "execution_count": 46,
     "metadata": {},
     "output_type": "execute_result"
    }
   ],
   "source": [
    "s.append(note.Rest('whole'))\n",
    "s.append(penta_sorted_list)\n",
    "s.show('lily.png')\n",
    "Image(get_score_png())"
   ]
  },
  {
   "cell_type": "code",
   "execution_count": 47,
   "metadata": {},
   "outputs": [
    {
     "data": {
      "text/html": [
       "\n",
       "                <div id='midiPlayerDiv253'></div>\n",
       "                <link rel=\"stylesheet\" href=\"//cuthbertLab.github.io/music21j/css/m21.css\"\n",
       "                    type=\"text/css\" />\n",
       "                <script>\n",
       "                require.config({\n",
       "                    paths: {'music21': '//cuthbertLab.github.io/music21j/src/music21'}\n",
       "                });\n",
       "                require(['music21'], function() {\n",
       "                               mp = new music21.miditools.MidiPlayer();\n",
       "                               mp.addPlayer('#midiPlayerDiv253');\n",
       "                               mp.base64Load('data:audio/midi;base64,TVRoZAAAAAYAAQABBABNVHJrAAAAOwD/AwAA4ABAiACQMlqIAIAyAACQNFqIAIA0AACQN1qIAIA3AACQOVqIAIA5AACQPFqIAIA8AIgA/y8A');\n",
       "                        });\n",
       "                </script>"
      ],
      "text/plain": [
       "<IPython.core.display.HTML object>"
      ]
     },
     "metadata": {},
     "output_type": "display_data"
    }
   ],
   "source": [
    "s.show('midi')"
   ]
  },
  {
   "cell_type": "code",
   "execution_count": 48,
   "metadata": {},
   "outputs": [
    {
     "name": "stdout",
     "output_type": "stream",
     "text": [
      "[<music21.note.Note D>, <music21.note.Note E>, <music21.note.Note F>, <music21.note.Note F#>, <music21.note.Note G>, <music21.note.Note A>, <music21.note.Note B>, <music21.note.Note C>]\n"
     ]
    }
   ],
   "source": [
    "diatonic_freq_list=[]\n",
    "for notes in pythagoras_scale[:8]:\n",
    "    diatonic_freq_list.append(notes.pitch.frequency)\n",
    "sorted_diatonic=sort_list(pythagoras_scale,diatonic_freq_list)\n",
    "print(sorted_diatonic)"
   ]
  },
  {
   "cell_type": "code",
   "execution_count": 54,
   "metadata": {},
   "outputs": [
    {
     "data": {
      "image/png": "[encoded data removed]",
      "text/plain": [
       "<IPython.core.display.Image object>"
      ]
     },
     "execution_count": 54,
     "metadata": {},
     "output_type": "execute_result"
    }
   ],
   "source": [
    "s1=stream.Stream()\n",
    "s1.append(note.Rest('whole'))\n",
    "s1.append(sorted_diatonic)\n",
    "s1.show('lily.png')\n",
    "Image(get_score_png())"
   ]
  },
  {
   "cell_type": "code",
   "execution_count": null,
   "metadata": {},
   "outputs": [],
   "source": [
    "chromatic_freq_list=[]\n",
    "for notes in pythagoras_scale[:8]:\n",
    "    chromatic_freq_list.append(notes.pitch.frequency)\n",
    "sorted_chromatic=sort_list(pythagoras_scale,chromatic_freq_list)\n",
    "print(sorted_chromatic)"
   ]
  },
  {
   "cell_type": "code",
   "execution_count": null,
   "metadata": {},
   "outputs": [],
   "source": [
    "s2=stream.Stream()\n",
    "s2.append(note.Rest('whole'))\n",
    "s2.append(sorted_chromatic)\n",
    "s1.show('lily.png')\n",
    "Image(get_score_png())"
   ]
  }
 ],
 "metadata": {
  "kernelspec": {
   "display_name": "Python 3",
   "language": "python",
   "name": "python3"
  },
  "language_info": {
   "codemirror_mode": {
    "name": "ipython",
    "version": 3
   },
   "file_extension": ".py",
   "mimetype": "text/x-python",
   "name": "python",
   "nbconvert_exporter": "python",
   "pygments_lexer": "ipython3",
   "version": "3.5.4"
  }
 },
 "nbformat": 4,
 "nbformat_minor": 2
}
