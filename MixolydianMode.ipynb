{
 "cells": [
  {
   "cell_type": "markdown",
   "metadata": {},
   "source": [
    "# Computer-Aided Musicology\n",
    "## Mixolydian Mode: Intervals\n",
    "<p align=\"left\">\n",
    "<img src=\"./img/businesscard.jpg\" width=\"500px\" alt=\"Business Card\" align=\"left\" >\n",
    "</p>\n",
    "<br>\n",
    "\n",
    "[www.rptecnologias.com](http://www.rptecnologias.com)\n",
    "<br>\n",
    "guitars.ai@rptecnologias.com\n"
   ]
  },
  {
   "cell_type": "markdown",
   "metadata": {},
   "source": [
    "# Import Packages"
   ]
  },
  {
   "cell_type": "code",
   "execution_count": 1,
   "metadata": {},
   "outputs": [],
   "source": [
    "#Imports \n",
    "from music21 import *\n",
    "from IPython.display import Image\n",
    "from collections import deque\n",
    "\n",
    "\n",
    "# Auxiliary Function to Display Musical Score using Lilypond in myBinder.org\n",
    "def get_score_png():\n",
    "    filename = ! ls *.png -Art | tail -n 1\n",
    "    return(filename[0])"
   ]
  },
  {
   "cell_type": "markdown",
   "metadata": {},
   "source": [
    "## Major Scale / Ionian"
   ]
  },
  {
   "cell_type": "code",
   "execution_count": 2,
   "metadata": {},
   "outputs": [
    {
     "name": "stdout",
     "output_type": "stream",
     "text": [
      "Major / Ionian of C ['C3', 'D3', 'E3', 'F3', 'G3', 'A3', 'B3', 'C4']\n"
     ]
    }
   ],
   "source": [
    "sc1 = scale.MajorScale(pitch.Pitch('C3'))\n",
    "print(\"Major / Ionian of C\",[str(p) for p in sc1.pitches])"
   ]
  },
  {
   "cell_type": "code",
   "execution_count": 3,
   "metadata": {},
   "outputs": [
    {
     "name": "stdout",
     "output_type": "stream",
     "text": [
      "Inervals: ['P1', 'M2', 'M3', 'P4', 'P5', 'M6', 'M7', 'P8']\n"
     ]
    }
   ],
   "source": [
    "list_of_notes=[note.Note(p) for p in sc1.pitches]\n",
    "list_of_intervals=[interval.notesToInterval(list_of_notes[0],n) for n in list_of_notes]\n",
    "print(\"Intervals:\", [t.name for t in list_of_intervals])"
   ]
  },
  {
   "cell_type": "code",
   "execution_count": 4,
   "metadata": {},
   "outputs": [
    {
     "name": "stdout",
     "output_type": "stream",
     "text": [
      "Semitones between intervals: [2, 2, 1, 2, 2, 2, 1]\n"
     ]
    }
   ],
   "source": [
    "print(\"Semitones between intervals:\",[y.semitones - x.semitones for x,y in zip(list_of_intervals,list_of_intervals[1:])])"
   ]
  },
  {
   "cell_type": "markdown",
   "metadata": {},
   "source": [
    "## Function to Shift the Tonic to a Desired Degree"
   ]
  },
  {
   "cell_type": "code",
   "execution_count": 8,
   "metadata": {},
   "outputs": [],
   "source": [
    "# Function to shift the Tonic to the Desired Degree of a Scale\n",
    "def shift_notes(list_name, desired_degree):\n",
    "    tmp_list=list(list_name)\n",
    "    for i, item in enumerate(list(tmp_list)[1:desired_degree]):\n",
    "        tmp_list[i]=item.transpose('P8')\n",
    "    deque_of_notes= deque(tmp_list)\n",
    "    deque_of_notes.rotate(desired_degree-1)\n",
    "    return list(deque_of_notes)"
   ]
  },
  {
   "cell_type": "code",
   "execution_count": 10,
   "metadata": {},
   "outputs": [],
   "source": [
    "shifted_scale=shift_notes(list_of_notes, 5)"
   ]
  },
  {
   "cell_type": "code",
   "execution_count": 11,
   "metadata": {},
   "outputs": [
    {
     "name": "stdout",
     "output_type": "stream",
     "text": [
      "Intervals of the Shifted Scale: ['P1', 'M2', 'M3', 'P4', 'P5', 'M6', 'm7', 'P8']\n"
     ]
    }
   ],
   "source": [
    "shifted_scale_intervals=[interval.notesToInterval(shifted_scale[0],n) for n in shifted_scale]\n",
    "print(\"Intervals of the Shifted Scale:\",[t.name for t in shifted_scale_intervals])"
   ]
  },
  {
   "cell_type": "code",
   "execution_count": 12,
   "metadata": {},
   "outputs": [
    {
     "name": "stdout",
     "output_type": "stream",
     "text": [
      "Semitones between Intervals: [2, 2, 1, 2, 2, 1, 2]\n"
     ]
    }
   ],
   "source": [
    "print(\"Semitones between Intervals:\",[y.semitones - x.semitones for x,y in zip(shifted_scale_intervals,shifted_scale_intervals[1:])])"
   ]
  },
  {
   "cell_type": "markdown",
   "metadata": {},
   "source": [
    "## Compare with Mixolydian Mode"
   ]
  },
  {
   "cell_type": "code",
   "execution_count": 13,
   "metadata": {},
   "outputs": [
    {
     "name": "stdout",
     "output_type": "stream",
     "text": [
      "Mixolydian of C ['G3', 'A3', 'B3', 'C4', 'D4', 'E4', 'F4', 'G4']\n",
      "['P1', 'M2', 'M3', 'P4', 'P5', 'M6', 'm7', 'P8']\n",
      "[2, 2, 1, 2, 2, 1, 2]\n"
     ]
    }
   ],
   "source": [
    "scMixolydian=scale.MixolydianScale(pitch.Pitch('G3'))\n",
    "print(\"Mixolydian of C\",[str(p) for p in scMixolydian.pitches])\n",
    "list_of_notes=[note.Note(p) for p in scMixolydian.pitches]\n",
    "list_of_intervals=[interval.notesToInterval(list_of_notes[0],n) for n in list_of_notes]\n",
    "print([t.name for t in list_of_intervals])\n",
    "print([y.semitones - x.semitones for x,y in zip(list_of_intervals,list_of_intervals[1:])])"
   ]
  }
 ],
 "metadata": {
  "kernelspec": {
   "display_name": "Python 3",
   "language": "python",
   "name": "python3"
  },
  "language_info": {
   "codemirror_mode": {
    "name": "ipython",
    "version": 3
   },
   "file_extension": ".py",
   "mimetype": "text/x-python",
   "name": "python",
   "nbconvert_exporter": "python",
   "pygments_lexer": "ipython3",
   "version": "3.5.4"
  }
 },
 "nbformat": 4,
 "nbformat_minor": 2
}
