{
 "cells": [
  {
   "cell_type": "markdown",
   "metadata": {},
   "source": [
    "# Computer-Aided Musicology\n",
    "## Mixolydian Modal Pentatonic Scale: Intervals\n",
    "<p align=\"left\">\n",
    "<img src=\"./img/businesscard.jpg\" width=\"500px\" alt=\"Business Card\" align=\"left\" >\n",
    "</p>\n",
    "<br>\n",
    "\n",
    "[www.rptecnologias.com](http://www.rptecnologias.com)\n",
    "<br>\n",
    "guitars.ai@rptecnologias.com\n"
   ]
  },
  {
   "cell_type": "markdown",
   "metadata": {},
   "source": [
    "# Import Packages"
   ]
  },
  {
   "cell_type": "code",
   "execution_count": 1,
   "metadata": {},
   "outputs": [],
   "source": [
    "#Imports \n",
    "from music21 import *\n",
    "from IPython.display import Image\n",
    "\n",
    "\n",
    "# Auxiliary Function to Display Musical Score using Lilypond in myBinder.org\n",
    "def get_score_png():\n",
    "    filename = ! ls *.png -Art | tail -n 1\n",
    "    return(filename[0])"
   ]
  },
  {
   "cell_type": "markdown",
   "metadata": {},
   "source": [
    "## Music21 Scales"
   ]
  },
  {
   "cell_type": "code",
   "execution_count": 2,
   "metadata": {},
   "outputs": [
    {
     "name": "stdout",
     "output_type": "stream",
     "text": [
      "Mixolydian of A     ['A2', 'B2', 'C#3', 'D3', 'E3', 'F#3', 'G3', 'A3']\n",
      "Major / Ionian of A ['A2', 'B2', 'C#3', 'D3', 'E3', 'F#3', 'G#3', 'A3']\n"
     ]
    }
   ],
   "source": [
    "sc = scale.MixolydianScale(pitch.Pitch('A2'))\n",
    "print(\"Mixolydian of A    \",[str(p) for p in sc.pitches])\n",
    "sc1 = scale.MajorScale(pitch.Pitch('A2'))\n",
    "print(\"Major / Ionian of A\",[str(p) for p in sc1.pitches])"
   ]
  },
  {
   "cell_type": "code",
   "execution_count": 3,
   "metadata": {},
   "outputs": [
    {
     "name": "stdout",
     "output_type": "stream",
     "text": [
      "['P1', 'M2', 'M3', 'P4', 'P5', 'M6', 'm7']\n"
     ]
    }
   ],
   "source": [
    "list_of_notes=[note.Note(p) for p in sc.pitches]\n",
    "list_of_intervals=[interval.notesToInterval(list_of_notes[0],n) for n in list_of_notes][:-1]\n",
    "print([t.name for t in list_of_intervals])"
   ]
  },
  {
   "cell_type": "markdown",
   "metadata": {},
   "source": [
    "## General Function that Returns a Scale from a Given Interval"
   ]
  },
  {
   "cell_type": "code",
   "execution_count": 4,
   "metadata": {},
   "outputs": [],
   "source": [
    "## General Function that Returns a Scale from Given Intervals\n",
    "def intervals_to_scale(tonic, intervals, octaves):\n",
    "    scale_list=[]\n",
    "    for x in range(octaves):\n",
    "        note_tonic=interval.Interval(0+12*x).transposeNote(note.Note(tonic))\n",
    "        for interval_symbol in intervals:\n",
    "            scale_list.append(interval.Interval(interval_symbol).transposeNote(note_tonic))\n",
    "    return scale_list"
   ]
  },
  {
   "cell_type": "markdown",
   "metadata": {},
   "source": [
    "## Lists of intervals of the Pentatonic Scales"
   ]
  },
  {
   "cell_type": "code",
   "execution_count": 5,
   "metadata": {},
   "outputs": [],
   "source": [
    "# Pentatonic Scales\n",
    "list_MajorPentatonic_intervals=['p1','M2', 'M3', 'p5', 'M6']\n",
    "list_MinorPentatonic_intervals=['p1','m3', 'p4', 'p5', 'm7']\n",
    "\n",
    "#Mixolidian Modal Pentatonic Scales\n",
    "MixolydianPentatonic_intervals=['p1', 'M3', 'p4', 'p5', 'm7']\n"
   ]
  },
  {
   "cell_type": "code",
   "execution_count": 6,
   "metadata": {},
   "outputs": [],
   "source": [
    "MixolydianPentatonic=intervals_to_scale('A2', MixolydianPentatonic_intervals, 3)"
   ]
  },
  {
   "cell_type": "markdown",
   "metadata": {},
   "source": [
    "# Display the Mixolydian Pentatonic Scale as a Musical Score"
   ]
  },
  {
   "cell_type": "code",
   "execution_count": 7,
   "metadata": {},
   "outputs": [],
   "source": [
    "s1 = stream.Stream()\n",
    "s1.insert(0, clef.TrebleClef())\n",
    "s1.insert(0, metadata.Metadata())\n",
    "s1.metadata.title = \" Mixolydian Pentatonic of %s\" % MixolydianPentatonic[0].name\n",
    "s1.metadata.composer = \"Guitars.AI\"\n",
    "s1.append(meter.TimeSignature('2/4'))\n",
    "s1.append(note.Rest('half'))\n",
    "s1.append(MixolydianPentatonic)"
   ]
  },
  {
   "cell_type": "code",
   "execution_count": 8,
   "metadata": {},
   "outputs": [
    {
     "data": {
      "image/png": "[encoded data removed]",
      "text/plain": [
       "<IPython.core.display.Image object>"
      ]
     },
     "execution_count": 8,
     "metadata": {
      "image/png": {
       "height": 100
      }
     },
     "output_type": "execute_result"
    }
   ],
   "source": [
    "#s1.show() # Local machine , if Musescore is installed\n",
    "s1.show('lily.png')\n",
    "Image(filename=get_score_png(), height=100) "
   ]
  },
  {
   "cell_type": "code",
   "execution_count": 9,
   "metadata": {},
   "outputs": [
    {
     "data": {
      "text/html": [
       "\n",
       "                <div id='midiPlayerDiv132'></div>\n",
       "                <link rel=\"stylesheet\" href=\"//cuthbertLab.github.io/music21j/css/m21.css\"\n",
       "                    type=\"text/css\" />\n",
       "                <script>\n",
       "                require.config({\n",
       "                    paths: {'music21': '//cuthbertLab.github.io/music21j/src/music21'}\n",
       "                });\n",
       "                require(['music21'], function() {\n",
       "                               mp = new music21.miditools.MidiPlayer();\n",
       "                               mp.addPlayer('#midiPlayerDiv132');\n",
       "                               mp.base64Load('data:audio/midi;base64,TVRoZAAAAAYAAQABBABNVHJrAAAAnQD/AwAA4ABAAP9YBAICGAiIAJAtWogAgC0AAJAxWogAgDEAAJAyWogAgDIAAJA0WogAgDQAAJA3WogAgDcAAJA5WogAgDkAAJA9WogAgD0AAJA+WogAgD4AAJBAWogAgEAAAJBDWogAgEMAAJBFWogAgEUAAJBJWogAgEkAAJBKWogAgEoAAJBMWogAgEwAAJBPWogAgE8AiAD/LwA=');\n",
       "                        });\n",
       "                </script>"
      ],
      "text/plain": [
       "<IPython.core.display.HTML object>"
      ]
     },
     "metadata": {},
     "output_type": "display_data"
    }
   ],
   "source": [
    "s1.show('midi')"
   ]
  }
 ],
 "metadata": {
  "kernelspec": {
   "display_name": "Python 3",
   "language": "python",
   "name": "python3"
  },
  "language_info": {
   "codemirror_mode": {
    "name": "ipython",
    "version": 3
   },
   "file_extension": ".py",
   "mimetype": "text/x-python",
   "name": "python",
   "nbconvert_exporter": "python",
   "pygments_lexer": "ipython3",
   "version": "3.5.4"
  }
 },
 "nbformat": 4,
 "nbformat_minor": 2
}
