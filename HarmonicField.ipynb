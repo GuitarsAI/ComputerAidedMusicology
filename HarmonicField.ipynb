{
 "cells": [
  {
   "cell_type": "markdown",
   "metadata": {},
   "source": [
    "# Computer-Aided Musicology\n",
    "## Chords and Harmonic Field\n",
    "<p align=\"left\">\n",
    "<img src=\"./img/businesscard.jpg\" width=\"500px\" alt=\"Business Card\" align=\"left\" >\n",
    "</p>\n",
    "<br>\n",
    "\n",
    "[www.rptecnologias.com](http://www.rptecnologias.com)\n",
    "<br>\n",
    "guitars.ai@rptecnologias.com\n"
   ]
  },
  {
   "cell_type": "markdown",
   "metadata": {},
   "source": [
    "# Import Packages"
   ]
  },
  {
   "cell_type": "code",
   "execution_count": 43,
   "metadata": {},
   "outputs": [],
   "source": [
    "#Imports \n",
    "from music21 import *\n",
    "from IPython.display import Image\n",
    "from collections import deque\n",
    "\n",
    "# Auxiliary Function to Display Musical Score\n",
    "def get_score_png():\n",
    "    filename = ! ls *.png -Art | tail -n 1\n",
    "    return(filename[0])"
   ]
  },
  {
   "cell_type": "markdown",
   "metadata": {},
   "source": [
    "## Chord"
   ]
  },
  {
   "cell_type": "markdown",
   "metadata": {},
   "source": [
    "\"A chord is a harmonic unit with at least three different tones sounding simultaneously.\n",
    "The term includes all possible such sonorities.\" \n",
    "\n",
    "- Benward, B., 2003. Music In Theory and Practice Spiral. Mcgraw-Hill College."
   ]
  },
  {
   "cell_type": "markdown",
   "metadata": {},
   "source": [
    "### Chord Properties"
   ]
  },
  {
   "cell_type": "code",
   "execution_count": 26,
   "metadata": {},
   "outputs": [],
   "source": [
    "Cmajor = chord.Chord(['C','E','G'])"
   ]
  },
  {
   "cell_type": "code",
   "execution_count": 27,
   "metadata": {},
   "outputs": [
    {
     "name": "stdout",
     "output_type": "stream",
     "text": [
      "Chord {C | E | G} Quarter\n",
      "C-major triad\n",
      "E\n"
     ]
    }
   ],
   "source": [
    "# http://web.mit.edu/music21/doc/moduleReference/moduleChord.html\n",
    "print(Cmajor.fullName)\n",
    "print(Cmajor.pitchedCommonName)\n",
    "print(Cmajor.third)"
   ]
  },
  {
   "cell_type": "markdown",
   "metadata": {},
   "source": [
    "### Chord Transpose"
   ]
  },
  {
   "cell_type": "code",
   "execution_count": 28,
   "metadata": {},
   "outputs": [
    {
     "name": "stdout",
     "output_type": "stream",
     "text": [
      "Chord {E | G-sharp | B} Quarter\n",
      "E-major triad\n"
     ]
    }
   ],
   "source": [
    "chord2 = Cmajor.transpose('M3')\n",
    "print(chord2.fullName)\n",
    "print(chord2.pitchedCommonName)"
   ]
  },
  {
   "cell_type": "code",
   "execution_count": 29,
   "metadata": {},
   "outputs": [
    {
     "name": "stdout",
     "output_type": "stream",
     "text": [
      "Chord {E | G-sharp | B} Quarter\n",
      "E-major triad\n"
     ]
    }
   ],
   "source": [
    "chord3 = Cmajor.transpose(4)\n",
    "print(chord3.fullName)\n",
    "print(chord3.pitchedCommonName)"
   ]
  },
  {
   "cell_type": "markdown",
   "metadata": {},
   "source": [
    "### Chord Display"
   ]
  },
  {
   "cell_type": "code",
   "execution_count": 34,
   "metadata": {},
   "outputs": [
    {
     "data": {
      "image/png": "[encoded data removed]",
      "text/plain": [
       "<IPython.core.display.Image object>"
      ]
     },
     "execution_count": 34,
     "metadata": {},
     "output_type": "execute_result"
    }
   ],
   "source": [
    "Cmajor.show('lily.png')\n",
    "Image(filename=get_score_png())"
   ]
  },
  {
   "cell_type": "markdown",
   "metadata": {},
   "source": [
    "## Harmonic Field\n",
    " \n",
    " \"Duration is the length of time a pitch, or tone, is sounded.\" - Benward, B., 2003. Music In Theory and Practice Spiral. Mcgraw-Hill College."
   ]
  },
  {
   "cell_type": "code",
   "execution_count": 37,
   "metadata": {},
   "outputs": [
    {
     "name": "stdout",
     "output_type": "stream",
     "text": [
      "C Major Scale ['C3', 'D3', 'E3', 'F3', 'G3', 'A3', 'B3', 'C4']\n"
     ]
    }
   ],
   "source": [
    "CMajorScale=scale.MajorScale(pitch.Pitch('C3'))\n",
    "print(\"C Major Scale\",[str(p) for p in CMajorScale.pitches])"
   ]
  },
  {
   "cell_type": "code",
   "execution_count": 75,
   "metadata": {},
   "outputs": [],
   "source": [
    "# Function to shift the Tonic to the Desired Degree of a Scale\n",
    "def shift_notes(list_name, desired_degree):\n",
    "    tmp_list=list(list_name)\n",
    "    for i in range(desired_degree-1):\n",
    "        tmp_list.pop(0)\n",
    "        tmp_list.append(tmp_list[0].transpose('P8'))\n",
    "    return tmp_list\n",
    "        \n",
    "    \n",
    "    "
   ]
  },
  {
   "cell_type": "code",
   "execution_count": 76,
   "metadata": {},
   "outputs": [
    {
     "data": {
      "text/plain": [
       "[<music21.note.Note C>,\n",
       " <music21.note.Note D>,\n",
       " <music21.note.Note E>,\n",
       " <music21.note.Note F>,\n",
       " <music21.note.Note G>,\n",
       " <music21.note.Note A>,\n",
       " <music21.note.Note B>,\n",
       " <music21.note.Note C>]"
      ]
     },
     "execution_count": 76,
     "metadata": {},
     "output_type": "execute_result"
    }
   ],
   "source": [
    "list_of_notes=[note.Note(p) for p in CMajorScale.pitches]\n",
    "list_of_notes"
   ]
  },
  {
   "cell_type": "code",
   "execution_count": 82,
   "metadata": {},
   "outputs": [
    {
     "data": {
      "text/plain": [
       "[<music21.note.Note D>,\n",
       " <music21.note.Note E>,\n",
       " <music21.note.Note F>,\n",
       " <music21.note.Note G>,\n",
       " <music21.note.Note A>,\n",
       " <music21.note.Note B>,\n",
       " <music21.note.Note C>,\n",
       " <music21.note.Note D>]"
      ]
     },
     "execution_count": 82,
     "metadata": {},
     "output_type": "execute_result"
    }
   ],
   "source": [
    "shifted_scale=shift_notes(list_of_notes, 9)\n",
    "shifted_scale"
   ]
  },
  {
   "cell_type": "code",
   "execution_count": 15,
   "metadata": {},
   "outputs": [
    {
     "name": "stdout",
     "output_type": "stream",
     "text": [
      "C in octave 5 Eighth Note\n"
     ]
    }
   ],
   "source": [
    "n2=n1.transpose('m3')\n",
    "print(n2.fullName)"
   ]
  },
  {
   "cell_type": "code",
   "execution_count": 16,
   "metadata": {},
   "outputs": [
    {
     "name": "stdout",
     "output_type": "stream",
     "text": [
      "Whole Rest\n"
     ]
    }
   ],
   "source": [
    "r = note.Rest(type='whole')\n",
    "print(r.fullName)"
   ]
  },
  {
   "cell_type": "markdown",
   "metadata": {},
   "source": [
    "## Interval\n",
    " \n",
    "\"Intervals, or distances in pitch space between two pitches, are fundamental concepts of music theory, dating back at least to Ancient Greece, and are thus fundamental concepts in music21 as well.\" - http://web.mit.edu/music21/doc/usersGuide/usersGuide_18_intervals.html"
   ]
  },
  {
   "cell_type": "code",
   "execution_count": 17,
   "metadata": {},
   "outputs": [],
   "source": [
    "i = interval.Interval('m7')"
   ]
  },
  {
   "cell_type": "code",
   "execution_count": 18,
   "metadata": {},
   "outputs": [
    {
     "name": "stdout",
     "output_type": "stream",
     "text": [
      "Minor Seventh\n",
      "10\n"
     ]
    }
   ],
   "source": [
    "print(i.niceName)\n",
    "print(i.semitones)\n"
   ]
  },
  {
   "cell_type": "code",
   "execution_count": 19,
   "metadata": {},
   "outputs": [
    {
     "name": "stdout",
     "output_type": "stream",
     "text": [
      "Orignal Note: A in octave 4 Eighth Note\n",
      "Transposed Note: G in octave 5 Eighth Note\n",
      "Resersed Transposed Note: B in octave 3 Eighth Note\n"
     ]
    }
   ],
   "source": [
    "n3=i.transposeNote(n1)\n",
    "print(\"Orignal Note:\", n1.fullName)\n",
    "print(\"Transposed Note:\", n3.fullName)\n",
    "n4=i.reverse().transposeNote(n1)\n",
    "print(\"Resersed Transposed Note:\", n4.fullName)\n"
   ]
  },
  {
   "cell_type": "markdown",
   "metadata": {},
   "source": [
    "## Scale"
   ]
  },
  {
   "cell_type": "code",
   "execution_count": 20,
   "metadata": {},
   "outputs": [],
   "source": [
    "harmonicMinor = scale.HarmonicMinorScale('C4')"
   ]
  },
  {
   "cell_type": "code",
   "execution_count": 21,
   "metadata": {},
   "outputs": [
    {
     "name": "stdout",
     "output_type": "stream",
     "text": [
      "['C4', 'D4', 'E-4', 'F4', 'G4', 'A-4', 'B4', 'C5']\n"
     ]
    }
   ],
   "source": [
    "print([str(p) for p in harmonicMinor.pitches])"
   ]
  },
  {
   "cell_type": "code",
   "execution_count": 22,
   "metadata": {},
   "outputs": [
    {
     "name": "stdout",
     "output_type": "stream",
     "text": [
      "Intervals: ['P1', 'M2', 'm3', 'P4', 'P5', 'm6', 'M7', 'P8']\n"
     ]
    }
   ],
   "source": [
    "list_of_notes=[note.Note(p) for p in harmonicMinor.pitches]\n",
    "list_of_intervals=[interval.notesToInterval(list_of_notes[0],n) for n in list_of_notes]\n",
    "print(\"Intervals:\", [t.name for t in list_of_intervals])"
   ]
  },
  {
   "cell_type": "code",
   "execution_count": 23,
   "metadata": {},
   "outputs": [
    {
     "data": {
      "text/plain": [
       "[(3, <music21.scale.HarmonicMinorScale G harmonic minor>),\n",
       " (3, <music21.scale.HarmonicMinorScale E harmonic minor>),\n",
       " (3, <music21.scale.HarmonicMinorScale C harmonic minor>),\n",
       " (2, <music21.scale.HarmonicMinorScale B- harmonic minor>)]"
      ]
     },
     "execution_count": 23,
     "metadata": {},
     "output_type": "execute_result"
    }
   ],
   "source": [
    "harmonicMinor.deriveRanked(['c', 'e-', 'g'])"
   ]
  },
  {
   "cell_type": "code",
   "execution_count": 24,
   "metadata": {},
   "outputs": [
    {
     "name": "stdout",
     "output_type": "stream",
     "text": [
      "['B-4', 'C5', 'D-5', 'E-5', 'F5', 'G-5', 'A5', 'B-5']\n"
     ]
    }
   ],
   "source": [
    "harmonicMinorBflat = scale.HarmonicMinorScale('B-4')\n",
    "print([str(p) for p in harmonicMinorBflat.pitches])"
   ]
  },
  {
   "cell_type": "code",
   "execution_count": 25,
   "metadata": {},
   "outputs": [
    {
     "data": {
      "text/plain": [
       "<music21.scale.HarmonicMinorScale D- harmonic minor>"
      ]
     },
     "execution_count": 25,
     "metadata": {},
     "output_type": "execute_result"
    }
   ],
   "source": [
    "harmonicMinorBflat.deriveByDegree(7, 'c')"
   ]
  },
  {
   "cell_type": "code",
   "execution_count": 26,
   "metadata": {},
   "outputs": [
    {
     "name": "stdout",
     "output_type": "stream",
     "text": [
      "['D-4', 'E-4', 'F-4', 'G-4', 'A-4', 'B--4', 'C5', 'D-5']\n"
     ]
    }
   ],
   "source": [
    "harmonicMinorDflat = scale.HarmonicMinorScale('D-4')\n",
    "print([str(p) for p in harmonicMinorDflat.pitches])"
   ]
  },
  {
   "cell_type": "code",
   "execution_count": 27,
   "metadata": {},
   "outputs": [],
   "source": [
    "def minor_pentatonic(pitch_name):\n",
    "    list_of_intervals=['p1','m3', 'p4', 'p5', 'm7']\n",
    "    \n",
    "    return [interval.Interval(interval_symbol).transposePitch(pitch.Pitch(pitch_name)) \n",
    "           for interval_symbol in list_of_intervals]"
   ]
  },
  {
   "cell_type": "code",
   "execution_count": 28,
   "metadata": {},
   "outputs": [
    {
     "name": "stdout",
     "output_type": "stream",
     "text": [
      "['A4', 'C5', 'D5', 'E5', 'G5']\n"
     ]
    }
   ],
   "source": [
    "AminorPentatonic= minor_pentatonic('A4')\n",
    "print([p.nameWithOctave for p in AminorPentatonic])"
   ]
  },
  {
   "cell_type": "code",
   "execution_count": 29,
   "metadata": {},
   "outputs": [
    {
     "data": {
      "text/plain": [
       "[<music21.scale.MajorScale G major>,\n",
       " <music21.scale.MajorScale F major>,\n",
       " <music21.scale.MajorScale C major>]"
      ]
     },
     "execution_count": 29,
     "metadata": {},
     "output_type": "execute_result"
    }
   ],
   "source": [
    "majorScale=scale.MajorScale()\n",
    "majorScale.deriveAll(AminorPentatonic)"
   ]
  },
  {
   "cell_type": "markdown",
   "metadata": {},
   "source": [
    "## Stream"
   ]
  },
  {
   "cell_type": "code",
   "execution_count": 30,
   "metadata": {},
   "outputs": [],
   "source": [
    "# Objects stored in a Stream are generally spaced in time; \n",
    "# each stored object has an offset usually representing how many quarter notes it lies from the beginning of the Stream. \n",
    "#For instance in a 4/4 measure of two half notes, the first note will be at offset 0.0, and the second at offset 2.0.\n",
    "s = stream.Stream()"
   ]
  },
  {
   "cell_type": "code",
   "execution_count": 31,
   "metadata": {},
   "outputs": [],
   "source": [
    "sr = note.SpacerRest(type='whole')\n",
    "s.append(sr)\n",
    "s.append([note.Note(p) for p in AminorPentatonic])"
   ]
  },
  {
   "cell_type": "code",
   "execution_count": 32,
   "metadata": {},
   "outputs": [
    {
     "data": {
      "image/png": "[encoded data removed]",
      "text/plain": [
       "<IPython.core.display.Image object>"
      ]
     },
     "execution_count": 32,
     "metadata": {},
     "output_type": "execute_result"
    }
   ],
   "source": [
    "s.show('lily.png')\n",
    "Image(filename=get_score_png())"
   ]
  },
  {
   "cell_type": "code",
   "execution_count": 33,
   "metadata": {},
   "outputs": [
    {
     "data": {
      "text/html": [
       "\n",
       "                <div id='midiPlayerDiv44'></div>\n",
       "                <link rel=\"stylesheet\" href=\"//cuthbertLab.github.io/music21j/css/m21.css\"\n",
       "                    type=\"text/css\" />\n",
       "                <script>\n",
       "                require.config({\n",
       "                    paths: {'music21': '//cuthbertLab.github.io/music21j/src/music21'}\n",
       "                });\n",
       "                require(['music21'], function() {\n",
       "                               mp = new music21.miditools.MidiPlayer();\n",
       "                               mp.addPlayer('#midiPlayerDiv44');\n",
       "                               mp.base64Load('data:audio/midi;base64,TVRoZAAAAAYAAQABBABNVHJrAAAAOwD/AwAA4ABAoACQRVqIAIBFAACQSFqIAIBIAACQSlqIAIBKAACQTFqIAIBMAACQT1qIAIBPAIgA/y8A');\n",
       "                        });\n",
       "                </script>"
      ],
      "text/plain": [
       "<IPython.core.display.HTML object>"
      ]
     },
     "metadata": {},
     "output_type": "display_data"
    }
   ],
   "source": [
    "s.show('midi')"
   ]
  },
  {
   "cell_type": "code",
   "execution_count": null,
   "metadata": {},
   "outputs": [],
   "source": []
  }
 ],
 "metadata": {
  "kernelspec": {
   "display_name": "Python 3",
   "language": "python",
   "name": "python3"
  },
  "language_info": {
   "codemirror_mode": {
    "name": "ipython",
    "version": 3
   },
   "file_extension": ".py",
   "mimetype": "text/x-python",
   "name": "python",
   "nbconvert_exporter": "python",
   "pygments_lexer": "ipython3",
   "version": "3.5.4"
  }
 },
 "nbformat": 4,
 "nbformat_minor": 2
}
