{
 "cells": [
  {
   "cell_type": "markdown",
   "metadata": {},
   "source": [
    "# Computer-Aided Musicology\n",
    "## Chords and Harmonic Field\n",
    "<p align=\"left\">\n",
    "<img src=\"./img/businesscard.jpg\" width=\"500px\" alt=\"Business Card\" align=\"left\" >\n",
    "</p>\n",
    "<br>\n",
    "\n",
    "[www.rptecnologias.com](http://www.rptecnologias.com)\n",
    "<br>\n",
    "guitars.ai@rptecnologias.com\n"
   ]
  },
  {
   "cell_type": "markdown",
   "metadata": {},
   "source": [
    "# Import Packages"
   ]
  },
  {
   "cell_type": "code",
   "execution_count": 1,
   "metadata": {},
   "outputs": [],
   "source": [
    "#Imports \n",
    "from music21 import *\n",
    "from IPython.display import Image\n",
    "from collections import deque\n",
    "\n",
    "# Auxiliary Function to Display Musical Score\n",
    "def get_score_png():\n",
    "    filename = ! ls *.png -Art | tail -n 1\n",
    "    return(filename[0])"
   ]
  },
  {
   "cell_type": "markdown",
   "metadata": {},
   "source": [
    "## Chord"
   ]
  },
  {
   "cell_type": "markdown",
   "metadata": {},
   "source": [
    "\"A chord is a harmonic unit with at least three different tones sounding simultaneously.\n",
    "The term includes all possible such sonorities.\" \n",
    "\n",
    "- Benward, B., 2003. Music In Theory and Practice Spiral. Mcgraw-Hill College."
   ]
  },
  {
   "cell_type": "markdown",
   "metadata": {},
   "source": [
    "### Chord Properties"
   ]
  },
  {
   "cell_type": "code",
   "execution_count": 2,
   "metadata": {},
   "outputs": [],
   "source": [
    "Cmajor = chord.Chord(['C','E','G'])"
   ]
  },
  {
   "cell_type": "code",
   "execution_count": 3,
   "metadata": {},
   "outputs": [
    {
     "name": "stdout",
     "output_type": "stream",
     "text": [
      "Chord {C | E | G} Quarter\n",
      "C-major triad\n",
      "E\n"
     ]
    }
   ],
   "source": [
    "# http://web.mit.edu/music21/doc/moduleReference/moduleChord.html\n",
    "print(Cmajor.fullName)\n",
    "print(Cmajor.pitchedCommonName)\n",
    "print(Cmajor.third)"
   ]
  },
  {
   "cell_type": "markdown",
   "metadata": {},
   "source": [
    "### Chord Transpose"
   ]
  },
  {
   "cell_type": "code",
   "execution_count": 4,
   "metadata": {},
   "outputs": [
    {
     "name": "stdout",
     "output_type": "stream",
     "text": [
      "Chord {E | G-sharp | B} Quarter\n",
      "E-major triad\n"
     ]
    }
   ],
   "source": [
    "chord2 = Cmajor.transpose('M3')\n",
    "print(chord2.fullName)\n",
    "print(chord2.pitchedCommonName)"
   ]
  },
  {
   "cell_type": "code",
   "execution_count": 5,
   "metadata": {},
   "outputs": [
    {
     "name": "stdout",
     "output_type": "stream",
     "text": [
      "Chord {E | G-sharp | B} Quarter\n",
      "E-major triad\n"
     ]
    }
   ],
   "source": [
    "chord3 = Cmajor.transpose(4)\n",
    "print(chord3.fullName)\n",
    "print(chord3.pitchedCommonName)"
   ]
  },
  {
   "cell_type": "markdown",
   "metadata": {},
   "source": [
    "### Chord Display"
   ]
  },
  {
   "cell_type": "code",
   "execution_count": 6,
   "metadata": {},
   "outputs": [
    {
     "data": {
      "image/png": "[encoded data removed]",
      "text/plain": [
       "<IPython.core.display.Image object>"
      ]
     },
     "execution_count": 6,
     "metadata": {},
     "output_type": "execute_result"
    }
   ],
   "source": [
    "Cmajor.show('lily.png')\n",
    "Image(filename=get_score_png())"
   ]
  },
  {
   "cell_type": "markdown",
   "metadata": {},
   "source": [
    "## Harmonic Field\n",
    "In general, a Harmonic Field can be seen as a group of chords created from notes of a specifc scale."
   ]
  },
  {
   "cell_type": "code",
   "execution_count": 7,
   "metadata": {},
   "outputs": [
    {
     "name": "stdout",
     "output_type": "stream",
     "text": [
      "C Major Scale ['C3', 'D3', 'E3', 'F3', 'G3', 'A3', 'B3', 'C4']\n"
     ]
    }
   ],
   "source": [
    "CMajorScale=scale.MajorScale(pitch.Pitch('C3'))\n",
    "print(\"C Major Scale\",[str(p) for p in CMajorScale.pitches])"
   ]
  },
  {
   "cell_type": "code",
   "execution_count": 8,
   "metadata": {},
   "outputs": [],
   "source": [
    "# Function to shift the Tonic to the Desired Degree of a Scale\n",
    "def shift_notes(list_name, desired_degree):\n",
    "    tmp_list=list(list_name)\n",
    "    for i in range(desired_degree-1):\n",
    "        tmp_list.pop(0)\n",
    "        tmp_list.append(tmp_list[0].transpose('P8'))\n",
    "    return tmp_list"
   ]
  },
  {
   "cell_type": "code",
   "execution_count": 9,
   "metadata": {},
   "outputs": [],
   "source": [
    "notes_from_scale=[note.Note(p) for p in CMajorScale.pitches]"
   ]
  },
  {
   "cell_type": "code",
   "execution_count": 10,
   "metadata": {},
   "outputs": [],
   "source": [
    "def harmonic_field(listOfNotes):\n",
    "    chord_list=[]\n",
    "    for i in range(len(listOfNotes)-1):\n",
    "        chord_list.append(chord.Chord(shift_notes(listOfNotes,i+1)[::2]))\n",
    "    return chord_list"
   ]
  },
  {
   "cell_type": "code",
   "execution_count": 11,
   "metadata": {},
   "outputs": [
    {
     "data": {
      "text/plain": [
       "['C3-major seventh chord',\n",
       " 'D3-minor seventh chord',\n",
       " 'E3-minor seventh chord',\n",
       " 'F3-major seventh chord',\n",
       " 'G3-dominant seventh chord',\n",
       " 'A3-minor seventh chord',\n",
       " 'B3-half-diminished seventh chord']"
      ]
     },
     "execution_count": 11,
     "metadata": {},
     "output_type": "execute_result"
    }
   ],
   "source": [
    "[c.pitchedCommonName for c in harmonic_field(notes_from_scale)]"
   ]
  },
  {
   "cell_type": "code",
   "execution_count": 12,
   "metadata": {},
   "outputs": [
    {
     "data": {
      "text/plain": [
       "['Cmaj7', 'Dm7', 'Em7', 'Fmaj7', 'G7', 'Am7', 'B/o7']"
      ]
     },
     "execution_count": 12,
     "metadata": {},
     "output_type": "execute_result"
    }
   ],
   "source": [
    "harmonicFieldCMajorScale=[harmony.chordSymbolFigureFromChord(c) for c in harmonic_field(notes_from_scale)]\n",
    "harmonicFieldCMajorScale"
   ]
  },
  {
   "cell_type": "code",
   "execution_count": 13,
   "metadata": {},
   "outputs": [],
   "source": [
    "s = stream.Score()\n",
    "s.timeSignature = meter.TimeSignature('4/4')\n",
    "s.append(clef.TrebleClef())\n",
    "s.append(key.KeySignature(0))\n",
    "s.append(note.Rest(quarterLength=4))\n",
    "for c in harmonic_field(notes_from_scale):\n",
    "    d=duration.Duration(4.0)\n",
    "    c.duration=d\n",
    "    c.addLyric(harmony.chordSymbolFigureFromChord(c))\n",
    "    s.append(c)\n"
   ]
  },
  {
   "cell_type": "code",
   "execution_count": 14,
   "metadata": {},
   "outputs": [
    {
     "name": "stdout",
     "output_type": "stream",
     "text": [
      "Harmonic Field of C Major\n"
     ]
    },
    {
     "data": {
      "image/png": "[encoded data removed]",
      "text/plain": [
       "<IPython.core.display.Image object>"
      ]
     },
     "execution_count": 14,
     "metadata": {},
     "output_type": "execute_result"
    }
   ],
   "source": [
    "s.show('lily.png')\n",
    "print(\"Harmonic Field of C Major\")\n",
    "Image(filename=get_score_png())"
   ]
  },
  {
   "cell_type": "code",
   "execution_count": 15,
   "metadata": {},
   "outputs": [
    {
     "data": {
      "text/html": [
       "\n",
       "                <div id='midiPlayerDiv76'></div>\n",
       "                <link rel=\"stylesheet\" href=\"//cuthbertLab.github.io/music21j/css/m21.css\"\n",
       "                    type=\"text/css\" />\n",
       "                <script>\n",
       "                require.config({\n",
       "                    paths: {'music21': '//cuthbertLab.github.io/music21j/src/music21'}\n",
       "                });\n",
       "                require(['music21'], function() {\n",
       "                               mp = new music21.miditools.MidiPlayer();\n",
       "                               mp.addPlayer('#midiPlayerDiv76');\n",
       "                               mp.base64Load('data:audio/midi;base64,TVRoZAAAAAYAAQABBABNVHJrAAABAwD/AwAA4ABAAP9ZAgAAAP9YBAQCGAigAJAwWgCQNFoAkDdaAJA7WqAAgDAAAIA0AACANwAAgDsAAJAyWgCQNVoAkDlaAJA8WqAAgDIAAIA1AACAOQAAgDwAAJA0WgCQN1oAkDtaAJA+WqAAgDQAAIA3AACAOwAAgD4AAJA1WgCQOVoAkDxaAJBAWqAAgDUAAIA5AACAPAAAgEAAAJA3WgCQO1oAkD5aAJBBWqAAgDcAAIA7AACAPgAAgEEAAJA5WgCQPFoAkEBaAJBDWqAAgDkAAIA8AACAQAAAgEMAAJA7WgCQPloAkEFaAJBFWqAAgDsAAIA+AACAQQAAgEUAiAD/LwA=');\n",
       "                        });\n",
       "                </script>"
      ],
      "text/plain": [
       "<IPython.core.display.HTML object>"
      ]
     },
     "metadata": {},
     "output_type": "display_data"
    }
   ],
   "source": [
    "s.show('midi')"
   ]
  },
  {
   "cell_type": "code",
   "execution_count": null,
   "metadata": {},
   "outputs": [],
   "source": []
  }
 ],
 "metadata": {
  "kernelspec": {
   "display_name": "Python 3",
   "language": "python",
   "name": "python3"
  },
  "language_info": {
   "codemirror_mode": {
    "name": "ipython",
    "version": 3
   },
   "file_extension": ".py",
   "mimetype": "text/x-python",
   "name": "python",
   "nbconvert_exporter": "python",
   "pygments_lexer": "ipython3",
   "version": "3.5.4"
  }
 },
 "nbformat": 4,
 "nbformat_minor": 2
}
