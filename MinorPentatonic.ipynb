{
 "cells": [
  {
   "cell_type": "markdown",
   "metadata": {},
   "source": [
    "# Computer-Aided Musicology\n",
    "## Minor Pentatonic Scale: Intervals\n",
    "<p align=\"left\">\n",
    "<img src=\"./img/businesscard.jpg\" width=\"500px\" alt=\"Business Card\" align=\"left\" >\n",
    "</p>\n",
    "<br>\n",
    "\n",
    "[www.rptecnologias.com](http://www.rptecnologias.com)\n",
    "<br>\n",
    "guitars.ai@rptecnologias.com\n"
   ]
  },
  {
   "cell_type": "markdown",
   "metadata": {},
   "source": [
    "# Import Packages"
   ]
  },
  {
   "cell_type": "code",
   "execution_count": null,
   "metadata": {},
   "outputs": [],
   "source": [
    "#Imports \n",
    "from music21 import *\n",
    "from IPython.display import Image\n",
    "\n",
    "# Auxiliary Function to Display Musical Score\n",
    "def get_score_png():\n",
    "    filename = ! ls *.png -Art | tail -n 1\n",
    "    return(filename[0])"
   ]
  },
  {
   "cell_type": "markdown",
   "metadata": {},
   "source": [
    "# Intervals\n",
    "\"Intervals, or distances in pitch space between two pitches, are fundamental concepts of music theory, dating back at least to Ancient Greece, and are thus fundamental concepts in music21 as well.\" - http://web.mit.edu/music21/doc/usersGuide/usersGuide_18_intervals.html"
   ]
  },
  {
   "cell_type": "code",
   "execution_count": null,
   "metadata": {},
   "outputs": [],
   "source": [
    "i = interval.Interval('m3')"
   ]
  },
  {
   "cell_type": "code",
   "execution_count": null,
   "metadata": {},
   "outputs": [],
   "source": [
    "print(i.semiSimpleName)\n",
    "print(i.niceName) \n",
    "print(i.semitones)"
   ]
  },
  {
   "cell_type": "code",
   "execution_count": null,
   "metadata": {},
   "outputs": [],
   "source": [
    "list_of_intervals=['m3', 'p4', 'p5', 'm7']\n",
    "print(\"The Minor Pentatonic Scale consists of the following intervals:\")\n",
    "for interval_symbol in list_of_intervals:\n",
    "    i=interval.Interval(interval_symbol)\n",
    "    print(\"The interval symbol %s, has a name %s and consists of %s semitones.\" % (i.semiSimpleName, i.niceName,  i.semitones))\n",
    "   "
   ]
  },
  {
   "cell_type": "markdown",
   "metadata": {},
   "source": [
    "# From Fretboard to Music Note\n",
    "\"Music21 representation of FretNote and FretBoard objects.\" - http://web.mit.edu/music21/doc/moduleReference/moduleTablature.html"
   ]
  },
  {
   "cell_type": "code",
   "execution_count": null,
   "metadata": {},
   "outputs": [],
   "source": [
    "string=6\n",
    "fret=5\n",
    "fret_note = tablature.FretNote(string, fret)\n",
    "guitar_note = tablature.GuitarFretBoard([fret_note])\n",
    "note_name=guitar_note.getPitches()[6-string]"
   ]
  },
  {
   "cell_type": "code",
   "execution_count": null,
   "metadata": {},
   "outputs": [],
   "source": [
    "print(note_name)"
   ]
  },
  {
   "cell_type": "markdown",
   "metadata": {},
   "source": [
    "# Use an Interval to Transpose a Note"
   ]
  },
  {
   "cell_type": "code",
   "execution_count": null,
   "metadata": {},
   "outputs": [],
   "source": [
    "i = interval.Interval('p4')\n",
    "interval_pitch = i.transposePitch(note_name)\n",
    "print(\"The interval %s of %s is %s.\" % (i.niceName, note_name, interval_pitch.nameWithOctave))"
   ]
  },
  {
   "cell_type": "markdown",
   "metadata": {},
   "source": [
    "# Pitch Information"
   ]
  },
  {
   "cell_type": "code",
   "execution_count": null,
   "metadata": {},
   "outputs": [],
   "source": [
    "print(\"Pitch: %s \" % interval_pitch.nameWithOctave)\n",
    "print(\"Frequency: %s Hz.\" % interval_pitch.frequency)\n",
    "print(\"Midi Number: %s.\" % interval_pitch.midi)"
   ]
  },
  {
   "cell_type": "markdown",
   "metadata": {},
   "source": [
    "# A Function that Returns a Minor Pentatonic Scale"
   ]
  },
  {
   "cell_type": "code",
   "execution_count": null,
   "metadata": {},
   "outputs": [],
   "source": [
    "def minor_pentatonic(pitch_name):\n",
    "    list_of_intervals=['p1','m3', 'p4', 'p5', 'm7']\n",
    "    \n",
    "    return [interval.Interval(interval_symbol).transposeNote(note.Note(pitch_name)) \n",
    "           for interval_symbol in list_of_intervals]"
   ]
  },
  {
   "cell_type": "code",
   "execution_count": null,
   "metadata": {},
   "outputs": [],
   "source": [
    "Gsharp_minor_pentatonic = minor_pentatonic('G#4')"
   ]
  },
  {
   "cell_type": "markdown",
   "metadata": {},
   "source": [
    "# Display the Minor Pentatonic Scale as a Musical Score"
   ]
  },
  {
   "cell_type": "code",
   "execution_count": null,
   "metadata": {},
   "outputs": [],
   "source": [
    "s1 = stream.Stream()\n",
    "s1.append(Gsharp_minor_pentatonic)"
   ]
  },
  {
   "cell_type": "code",
   "execution_count": null,
   "metadata": {},
   "outputs": [],
   "source": [
    "s1.show('lily.png')\n",
    "Image(filename=get_score_png(), width=300) "
   ]
  },
  {
   "cell_type": "markdown",
   "metadata": {},
   "source": [
    "# Play Score as Midi"
   ]
  },
  {
   "cell_type": "code",
   "execution_count": null,
   "metadata": {},
   "outputs": [],
   "source": [
    "s1.show('midi')"
   ]
  },
  {
   "cell_type": "markdown",
   "metadata": {},
   "source": [
    "# A Function that Returns the Note from a Given String and Fret Number"
   ]
  },
  {
   "cell_type": "code",
   "execution_count": null,
   "metadata": {},
   "outputs": [],
   "source": [
    "def fret_to_notePitch(string, fret):\n",
    "    fret_note = tablature.FretNote(string, fret)\n",
    "    guitar_note = tablature.GuitarFretBoard([fret_note])\n",
    "    return note.Note(guitar_note.getPitches()[6-string]).nameWithOctave"
   ]
  },
  {
   "cell_type": "code",
   "execution_count": null,
   "metadata": {},
   "outputs": [],
   "source": [
    "fret_to_notePitch(6,5)"
   ]
  },
  {
   "cell_type": "code",
   "execution_count": null,
   "metadata": {},
   "outputs": [],
   "source": [
    "s2=stream.Stream()\n",
    "Dsharp_minor_pentatonic=minor_pentatonic(fret_to_notePitch(5,6))\n",
    "s2.append(Dsharp_minor_pentatonic)\n",
    "s2.show('lily.png')\n",
    "Image(filename=get_score_png(), width=300) "
   ]
  },
  {
   "cell_type": "code",
   "execution_count": null,
   "metadata": {},
   "outputs": [],
   "source": [
    "s2.show('midi')"
   ]
  }
 ],
 "metadata": {
  "kernelspec": {
   "display_name": "Python 3",
   "language": "python",
   "name": "python3"
  },
  "language_info": {
   "codemirror_mode": {
    "name": "ipython",
    "version": 3
   },
   "file_extension": ".py",
   "mimetype": "text/x-python",
   "name": "python",
   "nbconvert_exporter": "python",
   "pygments_lexer": "ipython3",
   "version": "3.5.4"
  }
 },
 "nbformat": 4,
 "nbformat_minor": 2
}
