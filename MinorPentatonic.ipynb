{
 "cells": [
  {
   "cell_type": "code",
   "execution_count": 1,
   "metadata": {},
   "outputs": [],
   "source": [
    "#Imports \n",
    "from music21 import *"
   ]
  },
  {
   "cell_type": "code",
   "execution_count": 2,
   "metadata": {},
   "outputs": [],
   "source": [
    "i = interval.Interval('m3')"
   ]
  },
  {
   "cell_type": "code",
   "execution_count": 3,
   "metadata": {},
   "outputs": [
    {
     "name": "stdout",
     "output_type": "stream",
     "text": [
      "m3\n",
      "Minor Third\n",
      "3\n"
     ]
    }
   ],
   "source": [
    "print(i.semiSimpleName)\n",
    "print(i.niceName) \n",
    "print(i.semitones)"
   ]
  },
  {
   "cell_type": "code",
   "execution_count": 4,
   "metadata": {},
   "outputs": [
    {
     "name": "stdout",
     "output_type": "stream",
     "text": [
      "The Minor Pentatonic Scale consists of the following intervals:\n",
      "The interval symbol m3, has a name Minor Third and consists of 3 semitones.\n",
      "The interval symbol P4, has a name Perfect Fourth and consists of 5 semitones.\n",
      "The interval symbol P5, has a name Perfect Fifth and consists of 7 semitones.\n",
      "The interval symbol m7, has a name Minor Seventh and consists of 10 semitones.\n"
     ]
    }
   ],
   "source": [
    "list_of_intervals=['m3', 'p4', 'p5', 'm7']\n",
    "print(\"The Minor Pentatonic Scale consists of the following intervals:\")\n",
    "for interval_symbol in list_of_intervals:\n",
    "    i=interval.Interval(interval_symbol)\n",
    "    print(\"The interval symbol %s, has a name %s and consists of %s semitones.\" % (i.semiSimpleName, i.niceName,  i.semitones))\n",
    "   "
   ]
  },
  {
   "cell_type": "code",
   "execution_count": 5,
   "metadata": {},
   "outputs": [],
   "source": [
    "string=6\n",
    "fret=5\n",
    "fret_note = tablature.FretNote(string, fret)\n",
    "guitar_note = tablature.GuitarFretBoard([fret_note])\n",
    "note_name=guitar_note.getPitches()[6-string]"
   ]
  },
  {
   "cell_type": "code",
   "execution_count": 41,
   "metadata": {},
   "outputs": [
    {
     "name": "stdout",
     "output_type": "stream",
     "text": [
      "A2\n"
     ]
    }
   ],
   "source": [
    "print(note_name)"
   ]
  },
  {
   "cell_type": "code",
   "execution_count": 42,
   "metadata": {},
   "outputs": [
    {
     "name": "stdout",
     "output_type": "stream",
     "text": [
      "The interval Perfect Fourth of A2 is D3.\n"
     ]
    }
   ],
   "source": [
    "i = interval.Interval('p4')\n",
    "interval_pitch = i.transposePitch(note_name)\n",
    "print(\"The interval %s of %s is %s.\" % (i.niceName, note_name, interval_pitch.nameWithOctave))"
   ]
  },
  {
   "cell_type": "code",
   "execution_count": 43,
   "metadata": {},
   "outputs": [
    {
     "name": "stdout",
     "output_type": "stream",
     "text": [
      "Note: A2\n",
      "Interva: \n",
      "Pitch: D3 \n",
      "Frequency: 146.83238395870364 Hz.\n",
      "Midi Number: 50.\n"
     ]
    }
   ],
   "source": [
    "\n",
    "print(\"Pitch: %s \" % interval_pitch.nameWithOctave)\n",
    "print(\"Frequency: %s Hz.\" % interval_pitch.frequency)\n",
    "print(\"Midi Number: %s.\" % interval_pitch.midi)\n"
   ]
  },
  {
   "cell_type": "code",
   "execution_count": 10,
   "metadata": {},
   "outputs": [],
   "source": [
    "def minor_pentatonic(pitch_name):\n",
    "    list_of_intervals=['p1','m3', 'p4', 'p5', 'm7']\n",
    "    \n",
    "    return [interval.Interval(interval_symbol).transposeNote(note.Note(pitch_name)) \n",
    "           for interval_symbol in list_of_intervals]\n",
    "    \n",
    "        "
   ]
  },
  {
   "cell_type": "code",
   "execution_count": 11,
   "metadata": {},
   "outputs": [],
   "source": [
    "Gsharp_minor_pentatonic = minor_pentatonic('G#4')"
   ]
  },
  {
   "cell_type": "code",
   "execution_count": 12,
   "metadata": {},
   "outputs": [],
   "source": [
    "s1 = stream.Stream()\n",
    "s1.append(Gsharp_minor_pentatonic)"
   ]
  },
  {
   "cell_type": "code",
   "execution_count": 13,
   "metadata": {},
   "outputs": [
    {
     "data": {
      "image/png": "[encoded data removed]",
      "text/plain": [
       "<IPython.core.display.Image object>"
      ]
     },
     "metadata": {
      "image/png": {
       "height": 49,
       "width": 325
      }
     },
     "output_type": "display_data"
    }
   ],
   "source": [
    "s1.show()"
   ]
  },
  {
   "cell_type": "code",
   "execution_count": 14,
   "metadata": {},
   "outputs": [
    {
     "data": {
      "text/html": [
       "\n",
       "                <div id='midiPlayerDiv277'></div>\n",
       "                <link rel=\"stylesheet\" href=\"//cuthbertLab.github.io/music21j/css/m21.css\"\n",
       "                    type=\"text/css\" />\n",
       "                <script>\n",
       "                require.config({\n",
       "                    paths: {'music21': '//cuthbertLab.github.io/music21j/src/music21'}\n",
       "                });\n",
       "                require(['music21'], function() {\n",
       "                               mp = new music21.miditools.MidiPlayer();\n",
       "                               mp.addPlayer('#midiPlayerDiv277');\n",
       "                               mp.base64Load('data:audio/midi;base64,TVRoZAAAAAYAAQABBABNVHJrAAAAOgD/AwAA4ABAAJBEWogAgEQAAJBHWogAgEcAAJBJWogAgEkAAJBLWogAgEsAAJBOWogAgE4AiAD/LwA=');\n",
       "                        });\n",
       "                </script>"
      ],
      "text/plain": [
       "<IPython.core.display.HTML object>"
      ]
     },
     "metadata": {},
     "output_type": "display_data"
    }
   ],
   "source": [
    "s1.show('midi')"
   ]
  },
  {
   "cell_type": "code",
   "execution_count": 30,
   "metadata": {},
   "outputs": [],
   "source": [
    "def fret_to_notePitch(string, fret):\n",
    "    fret_note = tablature.FretNote(string, fret)\n",
    "    guitar_note = tablature.GuitarFretBoard([fret_note])\n",
    "    return note.Note(guitar_note.getPitches()[6-string])"
   ]
  },
  {
   "cell_type": "code",
   "execution_count": 31,
   "metadata": {},
   "outputs": [
    {
     "data": {
      "text/plain": [
       "<music21.note.Note A>"
      ]
     },
     "execution_count": 31,
     "metadata": {},
     "output_type": "execute_result"
    }
   ],
   "source": [
    "fret_to_notePitch(6,5)"
   ]
  },
  {
   "cell_type": "code",
   "execution_count": 39,
   "metadata": {},
   "outputs": [
    {
     "data": {
      "image/png": "[encoded data removed]",
      "text/plain": [
       "<IPython.core.display.Image object>"
      ]
     },
     "metadata": {
      "image/png": {
       "height": 58,
       "width": 335
      }
     },
     "output_type": "display_data"
    }
   ],
   "source": [
    "s2=stream.Stream()\n",
    "Dsharp_minor_pentatonic=minor_pentatonic(fret_to_notePitch(5,6).nameWithOctave)\n",
    "s2.append(Dsharp_minor_pentatonic)\n",
    "s2.show()"
   ]
  },
  {
   "cell_type": "code",
   "execution_count": 40,
   "metadata": {},
   "outputs": [
    {
     "data": {
      "text/html": [
       "\n",
       "                <div id='midiPlayerDiv1388'></div>\n",
       "                <link rel=\"stylesheet\" href=\"//cuthbertLab.github.io/music21j/css/m21.css\"\n",
       "                    type=\"text/css\" />\n",
       "                <script>\n",
       "                require.config({\n",
       "                    paths: {'music21': '//cuthbertLab.github.io/music21j/src/music21'}\n",
       "                });\n",
       "                require(['music21'], function() {\n",
       "                               mp = new music21.miditools.MidiPlayer();\n",
       "                               mp.addPlayer('#midiPlayerDiv1388');\n",
       "                               mp.base64Load('data:audio/midi;base64,TVRoZAAAAAYAAQABBABNVHJrAAAAOgD/AwAA4ABAAJAzWogAgDMAAJA2WogAgDYAAJA4WogAgDgAAJA6WogAgDoAAJA9WogAgD0AiAD/LwA=');\n",
       "                        });\n",
       "                </script>"
      ],
      "text/plain": [
       "<IPython.core.display.HTML object>"
      ]
     },
     "metadata": {},
     "output_type": "display_data"
    }
   ],
   "source": [
    "s2.show('midi')"
   ]
  },
  {
   "cell_type": "code",
   "execution_count": 44,
   "metadata": {},
   "outputs": [],
   "source": [
    "import platform"
   ]
  },
  {
   "cell_type": "code",
   "execution_count": 45,
   "metadata": {},
   "outputs": [
    {
     "name": "stdout",
     "output_type": "stream",
     "text": [
      "3.5.4\n"
     ]
    }
   ],
   "source": [
    "\n",
    "print(platform.python_version())"
   ]
  },
  {
   "cell_type": "code",
   "execution_count": null,
   "metadata": {},
   "outputs": [],
   "source": []
  }
 ],
 "metadata": {
  "kernelspec": {
   "display_name": "Python 3",
   "language": "python",
   "name": "python3"
  },
  "language_info": {
   "codemirror_mode": {
    "name": "ipython",
    "version": 3
   },
   "file_extension": ".py",
   "mimetype": "text/x-python",
   "name": "python",
   "nbconvert_exporter": "python",
   "pygments_lexer": "ipython3",
   "version": "3.5.4"
  }
 },
 "nbformat": 4,
 "nbformat_minor": 2
}
