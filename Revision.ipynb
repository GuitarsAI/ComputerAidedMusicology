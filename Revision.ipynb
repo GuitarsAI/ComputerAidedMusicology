{
 "cells": [
  {
   "cell_type": "markdown",
   "metadata": {},
   "source": [
    "# Computer-Aided Musicology\n",
    "## Major Pentatonic Scale: Intervals\n",
    "<p align=\"left\">\n",
    "<img src=\"./img/businesscard.jpg\" width=\"500px\" alt=\"Business Card\" align=\"left\" >\n",
    "</p>\n",
    "<br>\n",
    "\n",
    "[www.rptecnologias.com](http://www.rptecnologias.com)\n",
    "<br>\n",
    "guitars.ai@rptecnologias.com\n"
   ]
  },
  {
   "cell_type": "markdown",
   "metadata": {},
   "source": [
    "# Import Packages"
   ]
  },
  {
   "cell_type": "code",
   "execution_count": 1,
   "metadata": {},
   "outputs": [],
   "source": [
    "#Imports \n",
    "from music21 import *\n",
    "from IPython.display import Image\n",
    "\n",
    "# Auxiliary Function to Display Musical Score\n",
    "def get_score_png():\n",
    "    filename = ! ls *.png -Art | tail -n 1\n",
    "    return(filename[0])"
   ]
  },
  {
   "cell_type": "markdown",
   "metadata": {},
   "source": [
    "## Pitch"
   ]
  },
  {
   "cell_type": "markdown",
   "metadata": {},
   "source": [
    "\"Pitch is a perceptual attribute which allows the ordering of sounds on a frequency-related scale extending from low to high. More exactly, pitch is defined as the frequency of a sine wave that is matched to a target sound by human listeners.\" \n",
    "\n",
    "- Klapuri, Anssi, and Manuel Davy. Signal processing methods for music transcription. New York: Springer, 2006."
   ]
  },
  {
   "cell_type": "code",
   "execution_count": 2,
   "metadata": {},
   "outputs": [],
   "source": [
    "p1 = pitch.Pitch('A-4')"
   ]
  },
  {
   "cell_type": "code",
   "execution_count": 3,
   "metadata": {},
   "outputs": [
    {
     "name": "stdout",
     "output_type": "stream",
     "text": [
      "A-flat in octave 4\n",
      "la bemolle\n",
      "A♭4\n",
      "MIDI Number: 68\n",
      "Frequency [Hz]: 415.3046975799451\n"
     ]
    }
   ],
   "source": [
    "print(p1.fullName)\n",
    "print(p1.italian)\n",
    "print(p1.unicodeNameWithOctave)\n",
    "print(\"MIDI Number:\", p1.midi)\n",
    "print(\"Frequency [Hz]:\", p1.frequency)"
   ]
  },
  {
   "cell_type": "code",
   "execution_count": 4,
   "metadata": {},
   "outputs": [
    {
     "name": "stdout",
     "output_type": "stream",
     "text": [
      "A4\n"
     ]
    }
   ],
   "source": [
    "p2 = p1.transpose(1)\n",
    "print(p2.unicodeNameWithOctave)"
   ]
  },
  {
   "cell_type": "code",
   "execution_count": 5,
   "metadata": {},
   "outputs": [
    {
     "name": "stdout",
     "output_type": "stream",
     "text": [
      "mi\n",
      "E5\n"
     ]
    }
   ],
   "source": [
    "p3 = p2.transpose('p5')\n",
    "print(p3.spanish)\n",
    "print(p3.unicodeNameWithOctave)"
   ]
  },
  {
   "cell_type": "code",
   "execution_count": 6,
   "metadata": {},
   "outputs": [
    {
     "name": "stdout",
     "output_type": "stream",
     "text": [
      "A4 : 440.0 - A4\n",
      "A5 : 880.0000000000003 - A5\n",
      "E6 : 1320.0343105715208 - E6(+2c)\n",
      "A6 : 1760.000000000002 - A6\n",
      "C♯7 : 2199.6013780028807 - C#7(-14c)\n"
     ]
    }
   ],
   "source": [
    "# Harmonics\n",
    "harmonics=[]\n",
    "for harmonic in [1,2,3,4,5]:\n",
    "    harmonics.append(p2.getHarmonic(harmonic))\n",
    "for i in harmonics:\n",
    "    print(i.unicodeNameWithOctave,':', i.frequency, \"-\", i)"
   ]
  },
  {
   "cell_type": "code",
   "execution_count": 8,
   "metadata": {},
   "outputs": [
    {
     "name": "stdout",
     "output_type": "stream",
     "text": [
      "E6(+2c)\n",
      "A4\n"
     ]
    }
   ],
   "source": [
    "print(harmonics[2])\n",
    "print(harmonics[2].fundamental)"
   ]
  },
  {
   "cell_type": "markdown",
   "metadata": {},
   "source": [
    "### Cents in Music\n",
    "\n",
    "$$ \\text{1 cent}  = \\text{1 % of a semitone} $$\n",
    "$$ \\text{1 semitone}  = \\frac{1}{12} \\text{ of an octave} $$\n",
    "$$ \\Rightarrow  \\text{1200 cents in an octave} $$\n",
    "  \n",
    "$$ n = 1200 \\cdot \\log _{2} \\left( \\frac{a}{b} \\right) $$\n",
    "  \n",
    "Where n is the number of cents, and _'a'_ and _'b'_ are the frequencies of two notes.\n"
   ]
  },
  {
   "cell_type": "code",
   "execution_count": 14,
   "metadata": {},
   "outputs": [
    {
     "name": "stdout",
     "output_type": "stream",
     "text": [
      "1318.5102276514808\n",
      "1320.0343105715208\n",
      "1320\n"
     ]
    }
   ],
   "source": [
    "p4 = pitch.Pitch('E6')\n",
    "print(p4.frequency)\n",
    "p4.microtone = 2\n",
    "print(p4.frequency)\n",
    "print(440*3)"
   ]
  },
  {
   "cell_type": "code",
   "execution_count": 19,
   "metadata": {},
   "outputs": [
    {
     "data": {
      "text/plain": [
       "1318.5102276514808"
      ]
     },
     "execution_count": 19,
     "metadata": {},
     "output_type": "execute_result"
    }
   ],
   "source": [
    "440*((2**(1/12))**19)"
   ]
  },
  {
   "cell_type": "code",
   "execution_count": 17,
   "metadata": {},
   "outputs": [
    {
     "data": {
      "text/plain": [
       "1.0594630943592953"
      ]
     },
     "execution_count": 17,
     "metadata": {},
     "output_type": "execute_result"
    }
   ],
   "source": [
    "(2**(1/12))"
   ]
  },
  {
   "cell_type": "code",
   "execution_count": null,
   "metadata": {},
   "outputs": [],
   "source": [
    "# Pentatonic Scales\n",
    "list_MajorPentatonic_intervals=['p1','M2', 'M3', 'p5', 'M6']\n",
    "list_MinorPentatonic_intervals=['p1','m3', 'p4', 'p5', 'm7']"
   ]
  },
  {
   "cell_type": "code",
   "execution_count": null,
   "metadata": {},
   "outputs": [],
   "source": [
    "MajorPentatonic=intervals_to_scale('C3', list_MajorPentatonic_intervals, 3)"
   ]
  },
  {
   "cell_type": "markdown",
   "metadata": {},
   "source": [
    "# Display the Minor Pentatonic Scale as a Musical Score"
   ]
  },
  {
   "cell_type": "code",
   "execution_count": null,
   "metadata": {},
   "outputs": [],
   "source": [
    "s1 = stream.Stream()\n",
    "s1.append(meter.TimeSignature('2/4'))\n",
    "s1.append(note.Rest('half'))\n",
    "s1.append(MajorPentatonic)"
   ]
  },
  {
   "cell_type": "code",
   "execution_count": null,
   "metadata": {},
   "outputs": [],
   "source": [
    "s1.show('lily.png')\n",
    "Image(filename=get_score_png(), height=100) "
   ]
  },
  {
   "cell_type": "markdown",
   "metadata": {},
   "source": [
    "## Save Score as MIDI"
   ]
  },
  {
   "cell_type": "code",
   "execution_count": null,
   "metadata": {},
   "outputs": [],
   "source": [
    "s1.append(tempo. MetronomeMark(referent='quarter', number=200))\n",
    "electricguitar = instrument.fromString('electric guitar')\n",
    "electricguitar.midiChannel=0\n",
    "electricguitar.midiProgram=30  #Set program to Overdriven Guitar\n",
    "s1.append(electricguitar)\n",
    "s1.insert(0, metadata.Metadata())\n",
    "s1.metadata.title = \" %s Major Pentatonic\" % MajorPentatonic[0].nameWithOctave\n",
    "s1.metadata.composer = \"Guitars.AI\""
   ]
  },
  {
   "cell_type": "code",
   "execution_count": null,
   "metadata": {},
   "outputs": [],
   "source": [
    "# Save MIdi to file\n",
    "s1.write('midi', 'major_pentatonic_scale.mid')"
   ]
  },
  {
   "cell_type": "markdown",
   "metadata": {},
   "source": [
    "## Check what's the interval between 2 notes"
   ]
  },
  {
   "cell_type": "code",
   "execution_count": null,
   "metadata": {},
   "outputs": [],
   "source": [
    "C3Note = note.Note('C3')\n",
    "E3Note = note.Note('E3')\n",
    "i=interval.notesToInterval(C3Note, E3Note)\n",
    "print(\"E3 is the %s of C3.\" %i.niceName)\n",
    "F3Sharp = note.Note(\"F#3\")\n",
    "i=interval.notesToInterval(C3Note, F3Sharp)\n",
    "print(\"F#3 is the %s of C3.\" %i.niceName)"
   ]
  },
  {
   "cell_type": "code",
   "execution_count": null,
   "metadata": {},
   "outputs": [],
   "source": []
  }
 ],
 "metadata": {
  "kernelspec": {
   "display_name": "Python 3",
   "language": "python",
   "name": "python3"
  },
  "language_info": {
   "codemirror_mode": {
    "name": "ipython",
    "version": 3
   },
   "file_extension": ".py",
   "mimetype": "text/x-python",
   "name": "python",
   "nbconvert_exporter": "python",
   "pygments_lexer": "ipython3",
   "version": "3.5.4"
  }
 },
 "nbformat": 4,
 "nbformat_minor": 2
}
