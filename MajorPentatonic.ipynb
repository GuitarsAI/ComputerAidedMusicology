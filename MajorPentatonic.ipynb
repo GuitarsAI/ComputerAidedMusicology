{
 "cells": [
  {
   "cell_type": "markdown",
   "metadata": {},
   "source": [
    "# Computer-Aided Musicology\n",
    "## Major Pentatonic Scale: Intervals\n",
    "<p align=\"left\">\n",
    "<img src=\"./img/businesscard.jpg\" width=\"500px\" alt=\"Business Card\" align=\"left\" >\n",
    "</p>\n",
    "<br>\n",
    "\n",
    "[www.rptecnologias.com](http://www.rptecnologias.com)\n",
    "<br>\n",
    "guitars.ai@rptecnologias.com\n"
   ]
  },
  {
   "cell_type": "markdown",
   "metadata": {},
   "source": [
    "# Import Packages"
   ]
  },
  {
   "cell_type": "code",
   "execution_count": null,
   "metadata": {},
   "outputs": [],
   "source": [
    "#Imports \n",
    "from music21 import *\n",
    "from IPython.display import Image\n",
    "from midiutil import MIDIFile\n",
    "\n",
    "# Auxiliary Function to Display Musical Score\n",
    "def get_score_png():\n",
    "    filename = ! ls *.png -Art | tail -n 1\n",
    "    return(filename[0])"
   ]
  },
  {
   "cell_type": "markdown",
   "metadata": {},
   "source": [
    "## General Function that Returns a Scale from a Given Interval"
   ]
  },
  {
   "cell_type": "code",
   "execution_count": null,
   "metadata": {},
   "outputs": [],
   "source": [
    "## General Function that Returns a Scale from Given Intervals\n",
    "def intervals_to_scale(tonic, intervals, octaves):\n",
    "    scale_list=[]\n",
    "    for x in range(octaves):\n",
    "        note_tonic=interval.Interval(0+12*x).transposeNote(note.Note(tonic))\n",
    "        for interval_symbol in intervals:\n",
    "            scale_list.append(interval.Interval(interval_symbol).transposeNote(note_tonic))\n",
    "    return scale_list"
   ]
  },
  {
   "cell_type": "markdown",
   "metadata": {},
   "source": [
    "## Lists of intervals of the Pentatonic Scales"
   ]
  },
  {
   "cell_type": "code",
   "execution_count": null,
   "metadata": {},
   "outputs": [],
   "source": [
    "# Pentatonic Scales\n",
    "list_MajorPentatonic_intervals=['p1','M2', 'M3', 'p5', 'M6']\n",
    "list_MinorPentatonic_intervals=['p1','m3', 'p4', 'p5', 'm7']"
   ]
  },
  {
   "cell_type": "code",
   "execution_count": null,
   "metadata": {},
   "outputs": [],
   "source": [
    "MajorPentatonic=intervals_to_scale('C3', list_MajorPentatonic_intervals, 3)"
   ]
  },
  {
   "cell_type": "markdown",
   "metadata": {},
   "source": [
    "# Display the Minor Pentatonic Scale as a Musical Score"
   ]
  },
  {
   "cell_type": "code",
   "execution_count": null,
   "metadata": {},
   "outputs": [],
   "source": [
    "s1 = stream.Stream()\n",
    "s1.append(meter.TimeSignature('2/4'))\n",
    "s1.append(note.Rest('half'))\n",
    "s1.append(MajorPentatonic)"
   ]
  },
  {
   "cell_type": "code",
   "execution_count": null,
   "metadata": {},
   "outputs": [],
   "source": [
    "s1.show('lily.png')\n",
    "Image(filename=get_score_png(), height=100) "
   ]
  },
  {
   "cell_type": "markdown",
   "metadata": {},
   "source": [
    "## Save Score as MIDI"
   ]
  },
  {
   "cell_type": "code",
   "execution_count": null,
   "metadata": {},
   "outputs": [],
   "source": [
    "s1.append(tempo. MetronomeMark(referent='quarter', number=200))\n",
    "electricguitar = instrument.fromString('electric guitar')\n",
    "electricguitar.midiChannel=0\n",
    "electricguitar.midiProgram=30  #Set program to Overdriven Guitar\n",
    "s1.append(electricguitar)\n",
    "s1.insert(0, metadata.Metadata())\n",
    "s1.metadata.title = \" %s Major Pentatonic\" % MajorPentatonic[0].nameWithOctave\n",
    "s1.metadata.composer = \"Guitars.AI\""
   ]
  },
  {
   "cell_type": "code",
   "execution_count": null,
   "metadata": {},
   "outputs": [],
   "source": [
    "# Save MIdi to file\n",
    "s1.write('midi', 'major_pentatonic_scale.mid')"
   ]
  },
  {
   "cell_type": "markdown",
   "metadata": {},
   "source": [
    "## Check what's the interval between 2 notes"
   ]
  },
  {
   "cell_type": "code",
   "execution_count": null,
   "metadata": {},
   "outputs": [],
   "source": [
    "C3Note = note.Note('C3')\n",
    "E3Note = note.Note('E3')\n",
    "i=interval.notesToInterval(C3Note, E3Note)\n",
    "print(\"E3 is the %s of C3.\" %i.niceName)\n",
    "F3Sharp = note.Note(\"F#3\")\n",
    "i=interval.notesToInterval(C3Note, F3Sharp)\n",
    "print(\"F#3 is the %s of C3.\" %i.niceName)"
   ]
  },
  {
   "cell_type": "code",
   "execution_count": null,
   "metadata": {},
   "outputs": [],
   "source": []
  }
 ],
 "metadata": {
  "kernelspec": {
   "display_name": "Python 3",
   "language": "python",
   "name": "python3"
  },
  "language_info": {
   "codemirror_mode": {
    "name": "ipython",
    "version": 3
   },
   "file_extension": ".py",
   "mimetype": "text/x-python",
   "name": "python",
   "nbconvert_exporter": "python",
   "pygments_lexer": "ipython3",
   "version": "3.5.4"
  }
 },
 "nbformat": 4,
 "nbformat_minor": 2
}
