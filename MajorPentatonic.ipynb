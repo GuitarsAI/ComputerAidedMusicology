{
 "cells": [
  {
   "cell_type": "markdown",
   "metadata": {},
   "source": [
    "# Computer-Aided Musicology\n",
    "## Major Pentatonic Scale: Intervals\n",
    "<p align=\"left\">\n",
    "<img src=\"./img/businesscard.jpg\" width=\"500px\" alt=\"Business Card\" align=\"left\" >\n",
    "</p>\n",
    "<br>\n",
    "\n",
    "[www.rptecnologias.com](http://www.rptecnologias.com)\n",
    "<br>\n",
    "guitars.ai@rptecnologias.com\n"
   ]
  },
  {
   "cell_type": "markdown",
   "metadata": {},
   "source": [
    "# Import Packages"
   ]
  },
  {
   "cell_type": "code",
   "execution_count": 1,
   "metadata": {},
   "outputs": [],
   "source": [
    "#Imports \n",
    "from music21 import *\n",
    "from IPython.display import Image\n",
    "from midiutil import MIDIFile\n",
    "\n",
    "# Auxiliary Function to Display Musical Score\n",
    "def get_score_png():\n",
    "    filename = ! ls *.png -Art | tail -n 1\n",
    "    return(filename[0])"
   ]
  },
  {
   "cell_type": "markdown",
   "metadata": {},
   "source": [
    "## General Function that Returns a Scale from Given Intervals"
   ]
  },
  {
   "cell_type": "code",
   "execution_count": 46,
   "metadata": {},
   "outputs": [],
   "source": [
    "## General Function that Returns a Scale from Given Intervals\n",
    "def intervals_to_scale(tonic, intervals, octaves):\n",
    "    scale_list=[]\n",
    "    for x in range(octaves):\n",
    "        note_tonic=interval.Interval(0+12*x).transposeNote(note.Note(tonic))\n",
    "        for interval_symbol in intervals:\n",
    "            scale_list.append(interval.Interval(interval_symbol).transposeNote(note_tonic))\n",
    "    return scale_list"
   ]
  },
  {
   "cell_type": "markdown",
   "metadata": {},
   "source": [
    "## Lists of intervals of the Pentatonic Scales"
   ]
  },
  {
   "cell_type": "code",
   "execution_count": 63,
   "metadata": {},
   "outputs": [],
   "source": [
    "# Pentatonic Scales\n",
    "list_MajorPentatonic_intervals=['p1','M2', 'M3', 'p5', 'M6']\n",
    "list_MinorPentatonic_intervals=['p1','m3', 'p4', 'p5', 'm7']"
   ]
  },
  {
   "cell_type": "code",
   "execution_count": 64,
   "metadata": {},
   "outputs": [],
   "source": [
    "MajorPentatonic=intervals_to_scale('C3', list_MajorPentatonic_intervals, 3)"
   ]
  },
  {
   "cell_type": "markdown",
   "metadata": {},
   "source": [
    "# Display the Minor Pentatonic Scale as a Musical Score"
   ]
  },
  {
   "cell_type": "code",
   "execution_count": 78,
   "metadata": {},
   "outputs": [],
   "source": [
    "s1 = stream.Stream()\n",
    "s1.append(meter.TimeSignature('2/4'))\n",
    "s1.append(tempo. MetronomeMark(referent='quarter', number=200))\n",
    "electricguitar = instrument.fromString('electric guitar')\n",
    "electricguitar.midiChannel=0\n",
    "electricguitar.midiProgram=30  #Set program to Overdriven Guitar\n",
    "s1.append(electricguitar)\n",
    "s1.insert(0, metadata.Metadata())\n",
    "s1.metadata.title = \" %s Major Pentatonic\" % MajorPentatonic[0].nameWithOctave\n",
    "s1.metadata.composer = \"Guitars.AI\"\n",
    "s1.append(note.Rest('half'))\n",
    "s1.append(MajorPentatonic)"
   ]
  },
  {
   "cell_type": "code",
   "execution_count": 79,
   "metadata": {},
   "outputs": [
    {
     "data": {
      "image/png": "[encoded data removed]",
      "text/plain": [
       "<IPython.core.display.Image object>"
      ]
     },
     "execution_count": 79,
     "metadata": {
      "image/png": {
       "height": 100
      }
     },
     "output_type": "execute_result"
    }
   ],
   "source": [
    "s1.show('lily.png')\n",
    "Image(filename=get_score_png(), height=100) "
   ]
  },
  {
   "cell_type": "code",
   "execution_count": 82,
   "metadata": {},
   "outputs": [
    {
     "data": {
      "text/plain": [
       "'major_pentatonic_scale.mid'"
      ]
     },
     "execution_count": 82,
     "metadata": {},
     "output_type": "execute_result"
    }
   ],
   "source": [
    "# Save MIdi to file\n",
    "s1.write('midi', 'major_pentatonic_scale.mid')"
   ]
  },
  {
   "cell_type": "code",
   "execution_count": 90,
   "metadata": {},
   "outputs": [
    {
     "name": "stdout",
     "output_type": "stream",
     "text": [
      "{0.0} <music21.metadata.Metadata object at 0x7fd294d745f8>\n",
      "{0.0} <music21.instrument.ElectricGuitar Electric Guitar>\n",
      "{0.0} <music21.tempo.MetronomeMark Quarter=200>\n",
      "{0.0} <music21.meter.TimeSignature 2/4>\n",
      "{0.0} <music21.note.Rest rest>\n",
      "{1.0} <music21.note.Note C>\n",
      "{2.0} <music21.note.Note D>\n",
      "{3.0} <music21.note.Note E>\n",
      "{4.0} <music21.note.Note G>\n",
      "{5.0} <music21.note.Note A>\n",
      "{6.0} <music21.note.Note C>\n",
      "{7.0} <music21.note.Note D>\n",
      "{8.0} <music21.note.Note E>\n",
      "{9.0} <music21.note.Note G>\n",
      "{10.0} <music21.note.Note A>\n",
      "{11.0} <music21.note.Note C>\n",
      "{12.0} <music21.note.Note D>\n",
      "{13.0} <music21.note.Note E>\n",
      "{14.0} <music21.note.Note G>\n",
      "{15.0} <music21.note.Note A>\n"
     ]
    }
   ],
   "source": [
    "s1.show('text')"
   ]
  },
  {
   "cell_type": "code",
   "execution_count": 88,
   "metadata": {},
   "outputs": [
    {
     "data": {
      "text/html": [
       "\n",
       "                <div id='midiPlayerDiv2205'></div>\n",
       "                <link rel=\"stylesheet\" href=\"//cuthbertLab.github.io/music21j/css/m21.css\"\n",
       "                    type=\"text/css\" />\n",
       "                <script>\n",
       "                require.config({\n",
       "                    paths: {'music21': '//cuthbertLab.github.io/music21j/src/music21'}\n",
       "                });\n",
       "                require(['music21'], function() {\n",
       "                               mp = new music21.miditools.MidiPlayer();\n",
       "                               mp.addPlayer('#midiPlayerDiv2205');\n",
       "                               mp.base64Load('data:audio/midi;base64,TVRoZAAAAAYAAQABBABNVHJrAAAAqgD/AwAA4ABAAMAAAMAAAP9RAwST4AD/WAQCAhgIiACQMFqIAIAwAACQMlqIAIAyAACQNFqIAIA0AACQN1qIAIA3AACQOVqIAIA5AACQPFqIAIA8AACQPlqIAIA+AACQQFqIAIBAAACQQ1qIAIBDAACQRVqIAIBFAACQSFqIAIBIAACQSlqIAIBKAACQTFqIAIBMAACQT1qIAIBPAACQUVqIAIBRAIgA/y8A');\n",
       "                        });\n",
       "                </script>"
      ],
      "text/plain": [
       "<IPython.core.display.HTML object>"
      ]
     },
     "metadata": {},
     "output_type": "display_data"
    }
   ],
   "source": [
    "test.show('midi')"
   ]
  },
  {
   "cell_type": "code",
   "execution_count": 91,
   "metadata": {},
   "outputs": [
    {
     "ename": "ImportError",
     "evalue": "No module named 'pygame'",
     "output_type": "error",
     "traceback": [
      "\u001b[0;31m---------------------------------------------------------------------------\u001b[0m",
      "\u001b[0;31mImportError\u001b[0m                               Traceback (most recent call last)",
      "\u001b[0;32m<ipython-input-91-671b35b41eba>\u001b[0m in \u001b[0;36m<module>\u001b[0;34m()\u001b[0m\n\u001b[0;32m----> 1\u001b[0;31m \u001b[0;32mimport\u001b[0m \u001b[0mpygame\u001b[0m\u001b[0;34m\u001b[0m\u001b[0m\n\u001b[0m",
      "\u001b[0;31mImportError\u001b[0m: No module named 'pygame'"
     ]
    }
   ],
   "source": [
    "import pygame\n"
   ]
  },
  {
   "cell_type": "code",
   "execution_count": null,
   "metadata": {},
   "outputs": [],
   "source": []
  }
 ],
 "metadata": {
  "kernelspec": {
   "display_name": "Python 3",
   "language": "python",
   "name": "python3"
  },
  "language_info": {
   "codemirror_mode": {
    "name": "ipython",
    "version": 3
   },
   "file_extension": ".py",
   "mimetype": "text/x-python",
   "name": "python",
   "nbconvert_exporter": "python",
   "pygments_lexer": "ipython3",
   "version": "3.5.4"
  }
 },
 "nbformat": 4,
 "nbformat_minor": 2
}
